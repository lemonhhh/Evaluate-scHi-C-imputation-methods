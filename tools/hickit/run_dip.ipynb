{
 "cells": [
  {
   "cell_type": "code",
   "execution_count": 1,
   "metadata": {},
   "outputs": [],
   "source": [
    "import os\n"
   ]
  },
  {
   "cell_type": "code",
   "execution_count": 2,
   "metadata": {},
   "outputs": [
    {
     "name": "stdout",
     "output_type": "stream",
     "text": [
      "100\n"
     ]
    }
   ],
   "source": [
    "input_dir = \"/share/home/mliu/shareb/mliu/evaluate_impute/data/simulation_hic/Cell2020/hic/pairs\"\n",
    "cp_num = range(0,100)\n",
    "print(len(cp_num))"
   ]
  },
  {
   "cell_type": "code",
   "execution_count": 3,
   "metadata": {},
   "outputs": [],
   "source": [
    "file_list = []\n",
    "for group in range(1,5):\n",
    "    for c in cp_num:\n",
    "        input_file = f\"Cell2020_group{group}_copy{c}\"\n",
    "        file_list.append(input_file)\n",
    "         "
   ]
  },
  {
   "cell_type": "code",
   "execution_count": null,
   "metadata": {},
   "outputs": [],
   "source": []
  },
  {
   "cell_type": "code",
   "execution_count": 5,
   "metadata": {},
   "outputs": [],
   "source": [
    "# save file_list  to txt\n",
    "with open(\"file_list.txt\", \"w\") as f:\n",
    "    for item in file_list:\n",
    "        f.write(\"%s\\n\" % item)"
   ]
  },
  {
   "cell_type": "code",
   "execution_count": null,
   "metadata": {},
   "outputs": [],
   "source": [
    "command = \"ls /share/home/mliu/shareb/mliu/evaluate_impute/data/simulation_hic/Cell2020/hic/pairs | sed -e \"s/.pairs.gz//g\"\""
   ]
  }
 ],
 "metadata": {
  "kernelspec": {
   "display_name": "impute",
   "language": "python",
   "name": "python3"
  },
  "language_info": {
   "codemirror_mode": {
    "name": "ipython",
    "version": 3
   },
   "file_extension": ".py",
   "mimetype": "text/x-python",
   "name": "python",
   "nbconvert_exporter": "python",
   "pygments_lexer": "ipython3",
   "version": "3.8.18"
  }
 },
 "nbformat": 4,
 "nbformat_minor": 2
}
