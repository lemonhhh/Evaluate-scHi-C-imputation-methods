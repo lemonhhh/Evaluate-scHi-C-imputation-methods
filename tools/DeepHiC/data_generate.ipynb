{
 "cells": [
  {
   "cell_type": "code",
   "execution_count": 2,
   "metadata": {},
   "outputs": [],
   "source": [
    "import os, sys\n",
    "import time\n",
    "import argparse\n",
    "import multiprocessing\n",
    "import torch\n",
    "import numpy as np\n",
    "from utils.io import compactM, divide, pooling\n",
    "from all_parser import *"
   ]
  },
  {
   "cell_type": "code",
   "execution_count": 27,
   "metadata": {},
   "outputs": [],
   "source": [
    "#生成数据\n",
    "def deephic_divider(n, high_file, down_file, scale=1, pool_type='max', chunk=40, stride=40, bound=201, lr_cutoff=100, hr_cutoff=255):\n",
    "    \n",
    "    hic_data = np.load(high_file)\n",
    "    \n",
    "    compact_idx = hic_data['compact']\n",
    "    full_size = hic_data['hic'].shape[0]\n",
    "    print(\"raw shape\",hic_data['hic'].shape)\n",
    "    hic = compactM(hic_data['hic'], compact_idx)# Compacting\n",
    "    print(\"hic shape\",hic.shape)\n",
    "\n",
    "    #低分辨率的\n",
    "    down_data = np.load(down_file)\n",
    "    down_hic = compactM(down_data['hic'], compact_idx)\n",
    "\n",
    "    # Clamping\n",
    "    hic = np.minimum(hr_cutoff, hic)\n",
    "    down_hic = np.minimum(lr_cutoff, down_hic)\n",
    "\n",
    "    # Rescaling\n",
    "    hic = hic / np.max(hic)\n",
    "    down_hic = down_hic / lr_cutoff\n",
    "    # Deviding and Pooling (pooling is not performed actually)\n",
    "    #TODO:div_inds?\n",
    "    div_dhic, div_inds = divide(down_hic, n, chunk, stride, bound)\n",
    "    div_dhic = pooling(div_dhic, scale, pool_type=pool_type, verbose=False).numpy()\n",
    "\n",
    "    div_hhic, _ = divide(hic, n, chunk, stride, bound, verbose=True)\n",
    "\n",
    "    #返回的顺序\n",
    "    return n, div_dhic, div_hhic, div_inds, compact_idx, full_size"
   ]
  },
  {
   "cell_type": "code",
   "execution_count": 4,
   "metadata": {},
   "outputs": [
    {
     "name": "stdout",
     "output_type": "stream",
     "text": [
      "Going to read 10kb and 40kb data, then deviding matrices with nonpool\n"
     ]
    }
   ],
   "source": [
    "#  python data_generate.py -hr 10kb -lr 40kb -s all -chunk 40 -stride 40 -bound 201 -scale 1 -c GM12878\n",
    "cell_line = \"GM12878\"\n",
    "high_res = \"10kb\"\n",
    "low_res = \"40kb\"\n",
    "lr_cutoff =100\n",
    "dataset = \"all\"\n",
    "\n",
    "chunk = 40\n",
    "stride = 40 #步长\n",
    "bound = 201\n",
    "scale = 1\n",
    "pool_type =\"max\"\n",
    "\n",
    "chr_list = set_dict[\"human\"]\n",
    "postfix = cell_line.lower() if dataset == 'all' else dataset\n",
    "pool_str = 'nonpool' if scale == 1 else f'{pool_type}pool{scale}'\n",
    "print(f'Going to read {high_res} and {low_res} data, then deviding matrices with {pool_str}')"
   ]
  },
  {
   "cell_type": "code",
   "execution_count": 5,
   "metadata": {},
   "outputs": [
    {
     "name": "stdout",
     "output_type": "stream",
     "text": [
      "Start a multiprocess pool with processes = 23 for generating DeepHiC data\n",
      "All DeepHiC data generated. Running cost is 0.1 min.\n"
     ]
    }
   ],
   "source": [
    "pool_num = 23 if multiprocessing.cpu_count() > 23 else multiprocessing.cpu_count()\n",
    "\n",
    "data_dir = os.path.join(root_dir, 'mat', cell_line)\n",
    "out_dir = os.path.join(root_dir, 'data')\n",
    "mkdir(out_dir)\n",
    "\n",
    "start = time.time()\n",
    "pool = multiprocessing.Pool(processes=pool_num)\n",
    "print(f'Start a multiprocess pool with processes = {pool_num} for generating DeepHiC data')\n",
    "results = []\n",
    "\n",
    "for n in chr_list:\n",
    "\n",
    "    #文件名\n",
    "    high_file = os.path.join(data_dir, f'chr{n}_{high_res}.npz')\n",
    "    down_file = os.path.join(data_dir, f'chr{n}_{low_res}.npz')\n",
    "\n",
    "    kwargs = {'scale':scale, 'pool_type':pool_type, 'chunk':chunk, 'stride':stride, 'bound':bound, 'lr_cutoff': lr_cutoff}\n",
    "\n",
    "    res = pool.apply_async(deephic_divider, (n, high_file, down_file,), kwargs)\n",
    "    results.append(res)\n",
    "\n",
    "\n",
    "pool.close()\n",
    "pool.join()\n",
    "print(f'All DeepHiC data generated. Running cost is {(time.time()-start)/60:.1f} min.')\n",
    "\n",
    "\n"
   ]
  },
  {
   "cell_type": "code",
   "execution_count": 28,
   "metadata": {},
   "outputs": [
    {
     "name": "stdout",
     "output_type": "stream",
     "text": [
      "raw shape (7816, 7816)\n",
      "hic shape (7468, 7468)\n",
      "[Chr18] Deviding HiC matrix (7468x7468) into 2016 samples with chunk=40, stride=40, bound=201\n"
     ]
    }
   ],
   "source": [
    "n = 18\n",
    "n, div_dhic, div_hhic, div_inds, compact_idx, full_size = deephic_divider(n, high_file, down_file,scale,pool_type,chunk,stride,bound,lr_cutoff)"
   ]
  },
  {
   "cell_type": "code",
   "execution_count": 23,
   "metadata": {},
   "outputs": [
    {
     "name": "stdout",
     "output_type": "stream",
     "text": [
      "(2016, 1, 40, 40)\n",
      "(2016, 1, 40, 40)\n",
      "(2016, 4)\n",
      "(7468,)\n",
      "7816\n"
     ]
    }
   ],
   "source": [
    "print(div_dhic.shape)\n",
    "print(div_hhic.shape)\n",
    "print(div_inds.shape)\n",
    "print(compact_idx.shape)\n",
    "print(full_size)"
   ]
  },
  {
   "cell_type": "code",
   "execution_count": 6,
   "metadata": {},
   "outputs": [
    {
     "ename": "KeyError",
     "evalue": "'18'",
     "output_type": "error",
     "traceback": [
      "\u001b[0;31m---------------------------------------------------------------------------\u001b[0m",
      "\u001b[0;31mRemoteTraceback\u001b[0m                           Traceback (most recent call last)",
      "\u001b[0;31mRemoteTraceback\u001b[0m: \n\"\"\"\nTraceback (most recent call last):\n  File \"/share/home/mliu/anaconda3/envs/sv/lib/python3.8/multiprocessing/pool.py\", line 125, in worker\n    result = (True, func(*args, **kwds))\n  File \"/tmp/ipykernel_190504/4049379105.py\", line 22, in deephic_divider\n    div_dhic, div_inds = divide(down_hic, n, chunk, stride, bound)\n  File \"/share/home/mliu/sc_sv/imputation/DeepHiC/utils/io.py\", line 89, in divide\n    if isinstance(chr_num, str): chr_num = except_chr[species][chr_num]\nKeyError: '18'\n\"\"\"",
      "\nThe above exception was the direct cause of the following exception:\n",
      "\u001b[0;31mKeyError\u001b[0m                                  Traceback (most recent call last)",
      "Cell \u001b[0;32mIn[6], line 2\u001b[0m\n\u001b[1;32m      1\u001b[0m \u001b[39m# return: n, div_dhic, div_hhic, div_inds, compact_idx, full_size\u001b[39;00m\n\u001b[0;32m----> 2\u001b[0m data \u001b[39m=\u001b[39m np\u001b[39m.\u001b[39mconcatenate([r\u001b[39m.\u001b[39mget()[\u001b[39m1\u001b[39m] \u001b[39mfor\u001b[39;00m r \u001b[39min\u001b[39;00m results])\n\u001b[1;32m      3\u001b[0m target \u001b[39m=\u001b[39m np\u001b[39m.\u001b[39mconcatenate([r\u001b[39m.\u001b[39mget()[\u001b[39m2\u001b[39m] \u001b[39mfor\u001b[39;00m r \u001b[39min\u001b[39;00m results])\n\u001b[1;32m      4\u001b[0m inds \u001b[39m=\u001b[39m np\u001b[39m.\u001b[39mconcatenate([r\u001b[39m.\u001b[39mget()[\u001b[39m3\u001b[39m] \u001b[39mfor\u001b[39;00m r \u001b[39min\u001b[39;00m results])\n",
      "Cell \u001b[0;32mIn[6], line 2\u001b[0m, in \u001b[0;36m<listcomp>\u001b[0;34m(.0)\u001b[0m\n\u001b[1;32m      1\u001b[0m \u001b[39m# return: n, div_dhic, div_hhic, div_inds, compact_idx, full_size\u001b[39;00m\n\u001b[0;32m----> 2\u001b[0m data \u001b[39m=\u001b[39m np\u001b[39m.\u001b[39mconcatenate([r\u001b[39m.\u001b[39;49mget()[\u001b[39m1\u001b[39m] \u001b[39mfor\u001b[39;00m r \u001b[39min\u001b[39;00m results])\n\u001b[1;32m      3\u001b[0m target \u001b[39m=\u001b[39m np\u001b[39m.\u001b[39mconcatenate([r\u001b[39m.\u001b[39mget()[\u001b[39m2\u001b[39m] \u001b[39mfor\u001b[39;00m r \u001b[39min\u001b[39;00m results])\n\u001b[1;32m      4\u001b[0m inds \u001b[39m=\u001b[39m np\u001b[39m.\u001b[39mconcatenate([r\u001b[39m.\u001b[39mget()[\u001b[39m3\u001b[39m] \u001b[39mfor\u001b[39;00m r \u001b[39min\u001b[39;00m results])\n",
      "File \u001b[0;32m~/anaconda3/envs/sv/lib/python3.8/multiprocessing/pool.py:771\u001b[0m, in \u001b[0;36mApplyResult.get\u001b[0;34m(self, timeout)\u001b[0m\n\u001b[1;32m    769\u001b[0m     \u001b[39mreturn\u001b[39;00m \u001b[39mself\u001b[39m\u001b[39m.\u001b[39m_value\n\u001b[1;32m    770\u001b[0m \u001b[39melse\u001b[39;00m:\n\u001b[0;32m--> 771\u001b[0m     \u001b[39mraise\u001b[39;00m \u001b[39mself\u001b[39m\u001b[39m.\u001b[39m_value\n",
      "\u001b[0;31mKeyError\u001b[0m: '18'"
     ]
    }
   ],
   "source": [
    "# return: n, div_dhic, div_hhic, div_inds, compact_idx, full_size\n",
    "data = np.concatenate([r.get()[1] for r in results])\n",
    "target = np.concatenate([r.get()[2] for r in results])\n",
    "inds = np.concatenate([r.get()[3] for r in results])\n"
   ]
  },
  {
   "cell_type": "code",
   "execution_count": null,
   "metadata": {},
   "outputs": [],
   "source": []
  },
  {
   "cell_type": "code",
   "execution_count": null,
   "metadata": {},
   "outputs": [],
   "source": [
    "\n",
    "\n",
    "compacts = {r.get()[0]: r.get()[4] for r in results}\n",
    "sizes = {r.get()[0]: r.get()[5] for r in results}\n",
    "\n",
    "filename = f'deephic_{high_res}{low_res}_c{chunk}_s{stride}_b{bound}_{pool_str}_{postfix}.npz'\n",
    "deephic_file = os.path.join(out_dir, filename)\n",
    "\n",
    "\n",
    "#保存文件\n",
    "np.savez_compressed(deephic_file, data=data, target=target, inds=inds, compacts=compacts, sizes=sizes)\n",
    "print('Saving file:', deephic_file)"
   ]
  },
  {
   "cell_type": "code",
   "execution_count": 29,
   "metadata": {},
   "outputs": [
    {
     "ename": "NameError",
     "evalue": "name 'deephic_file' is not defined",
     "output_type": "error",
     "traceback": [
      "\u001b[0;31m---------------------------------------------------------------------------\u001b[0m",
      "\u001b[0;31mNameError\u001b[0m                                 Traceback (most recent call last)",
      "Cell \u001b[0;32mIn[29], line 1\u001b[0m\n\u001b[0;32m----> 1\u001b[0m deephic_file\n",
      "\u001b[0;31mNameError\u001b[0m: name 'deephic_file' is not defined"
     ]
    }
   ],
   "source": [
    "deephic_file"
   ]
  }
 ],
 "metadata": {
  "kernelspec": {
   "display_name": "sv",
   "language": "python",
   "name": "python3"
  },
  "language_info": {
   "codemirror_mode": {
    "name": "ipython",
    "version": 3
   },
   "file_extension": ".py",
   "mimetype": "text/x-python",
   "name": "python",
   "nbconvert_exporter": "python",
   "pygments_lexer": "ipython3",
   "version": "3.8.13"
  },
  "orig_nbformat": 4
 },
 "nbformat": 4,
 "nbformat_minor": 2
}
