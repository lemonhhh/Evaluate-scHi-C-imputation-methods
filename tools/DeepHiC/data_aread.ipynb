{
 "cells": [
  {
   "cell_type": "code",
   "execution_count": 2,
   "metadata": {},
   "outputs": [],
   "source": [
    "import os, sys\n",
    "import time\n",
    "import argparse\n",
    "import multiprocessing\n",
    "import numpy as np\n",
    "\n",
    "from utils.io import readcoo2mat\n",
    "from all_parser import *\n",
    "\n",
    "\n",
    "import numpy as np\n",
    "import pandas as pd\n",
    "import torch\n",
    "import torch.nn.functional as F\n",
    "from scipy.sparse import coo_matrix"
   ]
  },
  {
   "cell_type": "code",
   "execution_count": 3,
   "metadata": {},
   "outputs": [
    {
     "data": {
      "text/plain": [
       "'1.13.1'"
      ]
     },
     "execution_count": 3,
     "metadata": {},
     "output_type": "execute_result"
    }
   ],
   "source": [
    "torch.__version__"
   ]
  },
  {
   "cell_type": "code",
   "execution_count": 40,
   "metadata": {},
   "outputs": [],
   "source": [
    "\n",
    "def read_data(data_file, norm_file, out_dir, resolution):\n",
    "    filename = os.path.basename(data_file).split('.')[0] + '.npz'\n",
    "    out_file = os.path.join(out_dir, filename)\n",
    "    try:\n",
    "        HiC, idx = readcoo2mat(data_file, norm_file, resolution)\n",
    "    except:\n",
    "        print(f'Abnormal finle: {norm_file}')\n",
    "    np.savez_compressed(out_file, hic=HiC, compact=idx)\n",
    "    print('Saving file:', out_file)\n",
    "\n"
   ]
  },
  {
   "cell_type": "code",
   "execution_count": 41,
   "metadata": {},
   "outputs": [
    {
     "name": "stdout",
     "output_type": "stream",
     "text": [
      "data/RaoHiC/raw/GM12878/10kb_resolution_intrachromosomal/chr18/MAPQGE30/chr18_10kb.RAWobserved data/RaoHiC/raw/GM12878/10kb_resolution_intrachromosomal/chr18/MAPQGE30/chr18_10kb.KRnorm 10000\n"
     ]
    },
    {
     "ename": "NameError",
     "evalue": "name 'HiC' is not defined",
     "output_type": "error",
     "traceback": [
      "\u001b[0;31m---------------------------------------------------------------------------\u001b[0m",
      "\u001b[0;31mNameError\u001b[0m                                 Traceback (most recent call last)",
      "Cell \u001b[0;32mIn[41], line 6\u001b[0m\n\u001b[1;32m      3\u001b[0m out_dir \u001b[39m=\u001b[39m \u001b[39m\"\u001b[39m\u001b[39mdata/RaoHiC/mat/GM12878\u001b[39m\u001b[39m\"\u001b[39m \n\u001b[1;32m      4\u001b[0m resolution \u001b[39m=\u001b[39m \u001b[39m10000\u001b[39m\n\u001b[0;32m----> 6\u001b[0m read_data(data_file, norm_file, out_dir, resolution)\n",
      "Cell \u001b[0;32mIn[40], line 13\u001b[0m, in \u001b[0;36mread_data\u001b[0;34m(data_file, norm_file, out_dir, resolution)\u001b[0m\n\u001b[1;32m     10\u001b[0m     \u001b[39mprint\u001b[39m(\u001b[39mf\u001b[39m\u001b[39m'\u001b[39m\u001b[39mAbnormal finle: \u001b[39m\u001b[39m{\u001b[39;00mnorm_file\u001b[39m}\u001b[39;00m\u001b[39m'\u001b[39m)\n\u001b[1;32m     12\u001b[0m \u001b[39m#保存\u001b[39;00m\n\u001b[0;32m---> 13\u001b[0m np\u001b[39m.\u001b[39msavez_compressed(out_file, hic\u001b[39m=\u001b[39mHiC, compact\u001b[39m=\u001b[39midx)\n\u001b[1;32m     14\u001b[0m \u001b[39mprint\u001b[39m(\u001b[39m'\u001b[39m\u001b[39mSaving file:\u001b[39m\u001b[39m'\u001b[39m, out_file)\n",
      "\u001b[0;31mNameError\u001b[0m: name 'HiC' is not defined"
     ]
    }
   ],
   "source": [
    "data_file = \"data/RaoHiC/raw/GM12878/10kb_resolution_intrachromosomal/chr18/MAPQGE30/chr18_10kb.RAWobserved\" \n",
    "norm_file = \"data/RaoHiC/raw/GM12878/10kb_resolution_intrachromosomal/chr18/MAPQGE30/chr18_10kb.KRnorm\" \n",
    "out_dir = \"data/RaoHiC/mat/GM12878\" \n",
    "resolution = 10000\n",
    "\n",
    "read_data(data_file, norm_file, out_dir, resolution)\n"
   ]
  },
  {
   "cell_type": "code",
   "execution_count": null,
   "metadata": {},
   "outputs": [],
   "source": [
    "#python data_aread.py -c GM12878"
   ]
  },
  {
   "cell_type": "code",
   "execution_count": 4,
   "metadata": {},
   "outputs": [],
   "source": [
    "\n",
    "cell_line = \"GM12878\"\n",
    "resolution = \"10kb\"\n",
    "map_quality = \"MAPQGE30\"\n",
    "#后缀\n",
    "postfix = [\"KRnorm\", 'RAWobserved']"
   ]
  },
  {
   "cell_type": "code",
   "execution_count": 5,
   "metadata": {},
   "outputs": [],
   "source": [
    "pool_num = 23 if multiprocessing.cpu_count() > 23 else multiprocessing.cpu_count()\n",
    "\n",
    "#原始数据的路径\n",
    "raw_dir = os.path.join(root_dir, 'raw', cell_line)"
   ]
  },
  {
   "cell_type": "code",
   "execution_count": 19,
   "metadata": {},
   "outputs": [
    {
     "name": "stdout",
     "output_type": "stream",
     "text": [
      "Start reading data, there are 23 files (10kb).\n",
      "Output directory: data/RaoHiC/mat/GM12878\n"
     ]
    }
   ],
   "source": [
    "norm_files = []\n",
    "data_files = []\n",
    "for root, dirs, files in os.walk(raw_dir):\n",
    "    if len(files) > 0:\n",
    "        if (resolution in root) and (map_quality in root):\n",
    "            for f in files:\n",
    "                if (f.endswith(postfix[0])):\n",
    "                    norm_files.append(os.path.join(root, f))\n",
    "                elif (f.endswith(postfix[1])):\n",
    "                    data_files.append(os.path.join(root, f))\n",
    "\n",
    "out_dir = os.path.join(root_dir, 'mat', cell_line)\n",
    "\n",
    "mkdir(out_dir)\n",
    "print(f'Start reading data, there are {len(norm_files)} files ({resolution}).')\n",
    "print(f'Output directory: {out_dir}')\n",
    "\n",
    "\n",
    "start = time.time()\n",
    "pool = multiprocessing.Pool(processes=pool_num)\n",
    "print(f'Start a multiprocess pool with process_num={pool_num} for reading raw data')\n",
    "#多线程\n",
    "for data_fn, norm_fn in zip(data_files, norm_files):\n",
    "    pool.apply_async(read_data, (data_fn, norm_fn, out_dir, res_map[resolution]))\n",
    "pool.close()\n",
    "pool.join()\n",
    "print(f'All reading processes done. Running cost is {(time.time()-start)/60:.1f} min.')"
   ]
  }
 ],
 "metadata": {
  "kernelspec": {
   "display_name": "sv",
   "language": "python",
   "name": "python3"
  },
  "language_info": {
   "codemirror_mode": {
    "name": "ipython",
    "version": 3
   },
   "file_extension": ".py",
   "mimetype": "text/x-python",
   "name": "python",
   "nbconvert_exporter": "python",
   "pygments_lexer": "ipython3",
   "version": "3.8.13"
  },
  "orig_nbformat": 4
 },
 "nbformat": 4,
 "nbformat_minor": 2
}
