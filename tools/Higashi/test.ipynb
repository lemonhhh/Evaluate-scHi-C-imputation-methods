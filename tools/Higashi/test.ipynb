{
 "cells": [
  {
   "cell_type": "code",
   "execution_count": 1,
   "metadata": {},
   "outputs": [
    {
     "data": {
      "text/plain": [
       "True"
      ]
     },
     "execution_count": 1,
     "metadata": {},
     "output_type": "execute_result"
    }
   ],
   "source": [
    "import torch\n",
    "torch.cuda.is_available()"
   ]
  },
  {
   "cell_type": "code",
   "execution_count": 3,
   "metadata": {},
   "outputs": [],
   "source": [
    "import sys\n",
    "#使用shareb/mliu/evaluate_impute/tools/Higashi/Higashi这个路径下的higashi包\n",
    "sys.path.append('/shareb/mliu/evaluate_impute/tools/Higashi/Higashi')\n",
    "from higashi.Higashi_wrapper import *"
   ]
  },
  {
   "cell_type": "code",
   "execution_count": 64,
   "metadata": {},
   "outputs": [],
   "source": [
    "config = \"/shareb/mliu/evaluate_impute/tools/Higashi/data/config.JSON\"\n",
    "higashi_model = Higashi(config)"
   ]
  },
  {
   "cell_type": "code",
   "execution_count": 65,
   "metadata": {},
   "outputs": [
    {
     "name": "stdout",
     "output_type": "stream",
     "text": [
      "generating start/end dict for chromosome\n",
      "extracting from filelist.txt\n"
     ]
    },
    {
     "data": {
      "application/vnd.jupyter.widget-view+json": {
       "model_id": "dbb7cfd4f39147ed9bb60d8fef7dba34",
       "version_major": 2,
       "version_minor": 0
      },
      "text/plain": [
       "  0%|          | 0/100 [00:00<?, ?it/s]"
      ]
     },
     "metadata": {},
     "output_type": "display_data"
    },
    {
     "name": "stdout",
     "output_type": "stream",
     "text": [
      "generating contact maps for baseline\n",
      "data loaded\n",
      "326747 False\n"
     ]
    },
    {
     "data": {
      "application/vnd.jupyter.widget-view+json": {
       "model_id": "76d9721617864dbe9e945c8bc6b50d01",
       "version_major": 2,
       "version_minor": 0
      },
      "text/plain": [
       "creating matrices tasks:   0%|          | 0/1 [00:00<?, ?it/s]"
      ]
     },
     "metadata": {},
     "output_type": "display_data"
    },
    {
     "name": "stdout",
     "output_type": "stream",
     "text": [
      "total_feats_size 80\n"
     ]
    },
    {
     "data": {
      "application/vnd.jupyter.widget-view+json": {
       "model_id": "6a0fd57b675f489e97e0fd8233e736e3",
       "version_major": 2,
       "version_minor": 0
      },
      "text/plain": [
       "  0%|          | 0/1 [00:00<?, ?it/s]"
      ]
     },
     "metadata": {},
     "output_type": "display_data"
    }
   ],
   "source": [
    "#处理数据最慢的一步\n",
    "higashi_model.process_data()"
   ]
  },
  {
   "cell_type": "markdown",
   "metadata": {},
   "source": [
    "## 准备模型\n"
   ]
  },
  {
   "cell_type": "code",
   "execution_count": 66,
   "metadata": {},
   "outputs": [
    {
     "name": "stdout",
     "output_type": "stream",
     "text": [
      "cpu_num 40\n",
      "setting to gpu:0\n",
      "training on data from: ['chr2']\n",
      "total_sparsity_cell 0.10848898145659769\n",
      "contractive loss\n",
      "batch_size 256\n",
      "Node type num [100 244] [100 344]\n",
      "start making attribute\n"
     ]
    },
    {
     "data": {
      "application/vnd.jupyter.widget-view+json": {
       "model_id": "3e0283568fab441d955a519e6d3ffe1b",
       "version_major": 2,
       "version_minor": 0
      },
      "text/plain": [
       "  0%|          | 0/300 [00:00<?, ?it/s]"
      ]
     },
     "metadata": {},
     "output_type": "display_data"
    },
    {
     "name": "stdout",
     "output_type": "stream",
     "text": [
      "loss 0.24291092157363892 loss best 0.24447372555732727 epochs 189\n",
      "\n",
      "initializing data generator\n"
     ]
    },
    {
     "data": {
      "application/vnd.jupyter.widget-view+json": {
       "model_id": "4dad487309984305a8e48ad8810d1d9c",
       "version_major": 2,
       "version_minor": 0
      },
      "text/plain": [
       "  0%|          | 0/1 [00:00<?, ?it/s]"
      ]
     },
     "metadata": {},
     "output_type": "display_data"
    },
    {
     "name": "stdout",
     "output_type": "stream",
     "text": [
      "initializing data generator\n"
     ]
    },
    {
     "data": {
      "application/vnd.jupyter.widget-view+json": {
       "model_id": "2e5cfc98cc44419287c162b26cddf19a",
       "version_major": 2,
       "version_minor": 0
      },
      "text/plain": [
       "  0%|          | 0/1 [00:00<?, ?it/s]"
      ]
     },
     "metadata": {},
     "output_type": "display_data"
    }
   ],
   "source": [
    "higashi_model.prep_model()"
   ]
  },
  {
   "cell_type": "code",
   "execution_count": 67,
   "metadata": {},
   "outputs": [
    {
     "name": "stdout",
     "output_type": "stream",
     "text": [
      "First stage training\n",
      "[ Epoch 0 of 60 ]\n"
     ]
    },
    {
     "data": {
      "application/vnd.jupyter.widget-view+json": {
       "model_id": "",
       "version_major": 2,
       "version_minor": 0
      },
      "text/plain": [
       " - (Training) :   0%|          | 0/1000 [00:00<?, ?it/s]"
      ]
     },
     "metadata": {},
     "output_type": "display_data"
    },
    {
     "name": "stdout",
     "output_type": "stream",
     "text": [
      "- (Train)   bce:  0.5357, mse:  0.2074,  acc: 79.835 %, pearson: 0.264, spearman: 0.254, elapse: 24.633 s\n"
     ]
    },
    {
     "data": {
      "application/vnd.jupyter.widget-view+json": {
       "model_id": "",
       "version_major": 2,
       "version_minor": 0
      },
      "text/plain": [
       "  - (Validation)   :   0%|          | 0/10 [00:00<?, ?it/s]"
      ]
     },
     "metadata": {},
     "output_type": "display_data"
    },
    {
     "name": "stdout",
     "output_type": "stream",
     "text": [
      "- (Valid) bce:  0.5313,  acc: 79.883 %,pearson: 0.308, spearman: 0.286,elapse: 0.058 s\n",
      "update_rate: 0.265012\t0.881002\tupdate_rate: 0.000000\t0.000000\tpair_ratio: 0.1\t\n",
      "[ Epoch 1 of 60 ]\n"
     ]
    },
    {
     "data": {
      "application/vnd.jupyter.widget-view+json": {
       "model_id": "",
       "version_major": 2,
       "version_minor": 0
      },
      "text/plain": [
       " - (Training) :   0%|          | 0/1000 [00:00<?, ?it/s]"
      ]
     },
     "metadata": {},
     "output_type": "display_data"
    },
    {
     "name": "stdout",
     "output_type": "stream",
     "text": [
      "- (Train)   bce:  0.5249, mse:  0.2043,  acc: 80.248 %, pearson: 0.308, spearman: 0.287, elapse: 19.677 s\n"
     ]
    },
    {
     "data": {
      "application/vnd.jupyter.widget-view+json": {
       "model_id": "",
       "version_major": 2,
       "version_minor": 0
      },
      "text/plain": [
       "  - (Validation)   :   0%|          | 0/10 [00:00<?, ?it/s]"
      ]
     },
     "metadata": {},
     "output_type": "display_data"
    },
    {
     "name": "stdout",
     "output_type": "stream",
     "text": [
      "- (Valid) bce:  0.5148,  acc: 80.156 %,pearson: 0.327, spearman: 0.309,elapse: 0.053 s\n",
      "update_rate: 0.159423\t1.236892\tpair_ratio: 0.2\t\n",
      "[ Epoch 2 of 60 ]\n"
     ]
    },
    {
     "data": {
      "application/vnd.jupyter.widget-view+json": {
       "model_id": "",
       "version_major": 2,
       "version_minor": 0
      },
      "text/plain": [
       " - (Training) :   0%|          | 0/1000 [00:00<?, ?it/s]"
      ]
     },
     "metadata": {},
     "output_type": "display_data"
    },
    {
     "name": "stdout",
     "output_type": "stream",
     "text": [
      "- (Train)   bce:  0.5210, mse:  0.2042,  acc: 80.369 %, pearson: 0.324, spearman: 0.300, elapse: 19.635 s\n"
     ]
    },
    {
     "data": {
      "application/vnd.jupyter.widget-view+json": {
       "model_id": "",
       "version_major": 2,
       "version_minor": 0
      },
      "text/plain": [
       "  - (Validation)   :   0%|          | 0/10 [00:00<?, ?it/s]"
      ]
     },
     "metadata": {},
     "output_type": "display_data"
    },
    {
     "name": "stdout",
     "output_type": "stream",
     "text": [
      "- (Valid) bce:  0.5157,  acc: 80.398 %,pearson: 0.326, spearman: 0.301,elapse: 0.057 s\n",
      "update_rate: 0.003000\t0.017657\tpair_ratio: 0.3\t\n",
      "[ Epoch 3 of 60 ]\n"
     ]
    },
    {
     "data": {
      "application/vnd.jupyter.widget-view+json": {
       "model_id": "",
       "version_major": 2,
       "version_minor": 0
      },
      "text/plain": [
       " - (Training) :   0%|          | 0/1000 [00:00<?, ?it/s]"
      ]
     },
     "metadata": {},
     "output_type": "display_data"
    },
    {
     "name": "stdout",
     "output_type": "stream",
     "text": [
      "- (Train)   bce:  0.5181, mse:  0.2042,  acc: 80.464 %, pearson: 0.335, spearman: 0.309, elapse: 20.211 s\n"
     ]
    },
    {
     "data": {
      "application/vnd.jupyter.widget-view+json": {
       "model_id": "",
       "version_major": 2,
       "version_minor": 0
      },
      "text/plain": [
       "  - (Validation)   :   0%|          | 0/10 [00:00<?, ?it/s]"
      ]
     },
     "metadata": {},
     "output_type": "display_data"
    },
    {
     "name": "stdout",
     "output_type": "stream",
     "text": [
      "- (Valid) bce:  0.5129,  acc: 80.578 %,pearson: 0.342, spearman: 0.311,elapse: 0.050 s\n",
      "update_rate: 0.001730\t0.006964\tpair_ratio: 0.4\t\n",
      "[ Epoch 4 of 60 ]\n"
     ]
    },
    {
     "data": {
      "application/vnd.jupyter.widget-view+json": {
       "model_id": "",
       "version_major": 2,
       "version_minor": 0
      },
      "text/plain": [
       " - (Training) :   0%|          | 0/1000 [00:00<?, ?it/s]"
      ]
     },
     "metadata": {},
     "output_type": "display_data"
    },
    {
     "name": "stdout",
     "output_type": "stream",
     "text": [
      "- (Train)   bce:  0.5153, mse:  0.2042,  acc: 80.566 %, pearson: 0.344, spearman: 0.317, elapse: 20.017 s\n"
     ]
    },
    {
     "data": {
      "application/vnd.jupyter.widget-view+json": {
       "model_id": "",
       "version_major": 2,
       "version_minor": 0
      },
      "text/plain": [
       "  - (Validation)   :   0%|          | 0/10 [00:00<?, ?it/s]"
      ]
     },
     "metadata": {},
     "output_type": "display_data"
    },
    {
     "name": "stdout",
     "output_type": "stream",
     "text": [
      "- (Valid) bce:  0.5195,  acc: 80.641 %,pearson: 0.340, spearman: 0.312,elapse: 0.051 s\n",
      "update_rate: 0.000837\t0.004803\tpair_ratio: 0.5\t\n",
      "[ Epoch 5 of 60 ]\n"
     ]
    },
    {
     "data": {
      "application/vnd.jupyter.widget-view+json": {
       "model_id": "",
       "version_major": 2,
       "version_minor": 0
      },
      "text/plain": [
       " - (Training) :   0%|          | 0/1000 [00:00<?, ?it/s]"
      ]
     },
     "metadata": {},
     "output_type": "display_data"
    },
    {
     "name": "stdout",
     "output_type": "stream",
     "text": [
      "- (Train)   bce:  0.5132, mse:  0.2042,  acc: 80.681 %, pearson: 0.354, spearman: 0.325, elapse: 20.640 s\n"
     ]
    },
    {
     "data": {
      "application/vnd.jupyter.widget-view+json": {
       "model_id": "",
       "version_major": 2,
       "version_minor": 0
      },
      "text/plain": [
       "  - (Validation)   :   0%|          | 0/10 [00:00<?, ?it/s]"
      ]
     },
     "metadata": {},
     "output_type": "display_data"
    },
    {
     "name": "stdout",
     "output_type": "stream",
     "text": [
      "- (Valid) bce:  0.5091,  acc: 80.672 %,pearson: 0.355, spearman: 0.325,elapse: 0.051 s\n",
      "update_rate: 0.000959\t0.003297\t\n",
      "[ Epoch 6 of 60 ]\n"
     ]
    },
    {
     "data": {
      "application/vnd.jupyter.widget-view+json": {
       "model_id": "",
       "version_major": 2,
       "version_minor": 0
      },
      "text/plain": [
       " - (Training) :   0%|          | 0/1000 [00:00<?, ?it/s]"
      ]
     },
     "metadata": {},
     "output_type": "display_data"
    },
    {
     "name": "stdout",
     "output_type": "stream",
     "text": [
      "- (Train)   bce:  0.5109, mse:  0.2042,  acc: 80.766 %, pearson: 0.362, spearman: 0.331, elapse: 20.010 s\n"
     ]
    },
    {
     "data": {
      "application/vnd.jupyter.widget-view+json": {
       "model_id": "",
       "version_major": 2,
       "version_minor": 0
      },
      "text/plain": [
       "  - (Validation)   :   0%|          | 0/10 [00:00<?, ?it/s]"
      ]
     },
     "metadata": {},
     "output_type": "display_data"
    },
    {
     "name": "stdout",
     "output_type": "stream",
     "text": [
      "- (Valid) bce:  0.5119,  acc: 80.758 %,pearson: 0.357, spearman: 0.321,elapse: 0.053 s\n",
      "update_rate: 0.001184\t0.003667\t\n",
      "[ Epoch 7 of 60 ]\n"
     ]
    },
    {
     "data": {
      "application/vnd.jupyter.widget-view+json": {
       "model_id": "",
       "version_major": 2,
       "version_minor": 0
      },
      "text/plain": [
       " - (Training) :   0%|          | 0/1000 [00:00<?, ?it/s]"
      ]
     },
     "metadata": {},
     "output_type": "display_data"
    },
    {
     "name": "stdout",
     "output_type": "stream",
     "text": [
      "- (Train)   bce:  0.5095, mse:  0.2042,  acc: 80.867 %, pearson: 0.366, spearman: 0.335, elapse: 20.387 s\n"
     ]
    },
    {
     "data": {
      "application/vnd.jupyter.widget-view+json": {
       "model_id": "",
       "version_major": 2,
       "version_minor": 0
      },
      "text/plain": [
       "  - (Validation)   :   0%|          | 0/10 [00:00<?, ?it/s]"
      ]
     },
     "metadata": {},
     "output_type": "display_data"
    },
    {
     "name": "stdout",
     "output_type": "stream",
     "text": [
      "- (Valid) bce:  0.5185,  acc: 80.438 %,pearson: 0.345, spearman: 0.311,elapse: 0.055 s\n",
      "update_rate: 0.001323\t0.003543\t\n",
      "[ Epoch 8 of 60 ]\n"
     ]
    },
    {
     "data": {
      "application/vnd.jupyter.widget-view+json": {
       "model_id": "",
       "version_major": 2,
       "version_minor": 0
      },
      "text/plain": [
       " - (Training) :   0%|          | 0/1000 [00:00<?, ?it/s]"
      ]
     },
     "metadata": {},
     "output_type": "display_data"
    },
    {
     "name": "stdout",
     "output_type": "stream",
     "text": [
      "- (Train)   bce:  0.5074, mse:  0.2043,  acc: 80.950 %, pearson: 0.373, spearman: 0.341, elapse: 18.824 s\n"
     ]
    },
    {
     "data": {
      "application/vnd.jupyter.widget-view+json": {
       "model_id": "",
       "version_major": 2,
       "version_minor": 0
      },
      "text/plain": [
       "  - (Validation)   :   0%|          | 0/10 [00:00<?, ?it/s]"
      ]
     },
     "metadata": {},
     "output_type": "display_data"
    },
    {
     "name": "stdout",
     "output_type": "stream",
     "text": [
      "- (Valid) bce:  0.5172,  acc: 80.703 %,pearson: 0.363, spearman: 0.324,elapse: 0.051 s\n",
      "update_rate: 0.001127\t0.003793\t\n",
      "[ Epoch 9 of 60 ]\n"
     ]
    },
    {
     "data": {
      "application/vnd.jupyter.widget-view+json": {
       "model_id": "",
       "version_major": 2,
       "version_minor": 0
      },
      "text/plain": [
       " - (Training) :   0%|          | 0/1000 [00:00<?, ?it/s]"
      ]
     },
     "metadata": {},
     "output_type": "display_data"
    },
    {
     "name": "stdout",
     "output_type": "stream",
     "text": [
      "- (Train)   bce:  0.5058, mse:  0.2043,  acc: 81.041 %, pearson: 0.378, spearman: 0.344, elapse: 20.084 s\n"
     ]
    },
    {
     "data": {
      "application/vnd.jupyter.widget-view+json": {
       "model_id": "",
       "version_major": 2,
       "version_minor": 0
      },
      "text/plain": [
       "  - (Validation)   :   0%|          | 0/10 [00:00<?, ?it/s]"
      ]
     },
     "metadata": {},
     "output_type": "display_data"
    },
    {
     "name": "stdout",
     "output_type": "stream",
     "text": [
      "- (Valid) bce:  0.5177,  acc: 80.773 %,pearson: 0.348, spearman: 0.318,elapse: 0.049 s\n",
      "update_rate: 0.001309\t0.008464\t\n",
      "[ Epoch 10 of 60 ]\n"
     ]
    },
    {
     "data": {
      "application/vnd.jupyter.widget-view+json": {
       "model_id": "",
       "version_major": 2,
       "version_minor": 0
      },
      "text/plain": [
       " - (Training) :   0%|          | 0/1000 [00:00<?, ?it/s]"
      ]
     },
     "metadata": {},
     "output_type": "display_data"
    },
    {
     "name": "stdout",
     "output_type": "stream",
     "text": [
      "- (Train)   bce:  0.5048, mse:  0.2043,  acc: 81.112 %, pearson: 0.382, spearman: 0.347, elapse: 19.892 s\n"
     ]
    },
    {
     "data": {
      "application/vnd.jupyter.widget-view+json": {
       "model_id": "",
       "version_major": 2,
       "version_minor": 0
      },
      "text/plain": [
       "  - (Validation)   :   0%|          | 0/10 [00:00<?, ?it/s]"
      ]
     },
     "metadata": {},
     "output_type": "display_data"
    },
    {
     "name": "stdout",
     "output_type": "stream",
     "text": [
      "- (Valid) bce:  0.5147,  acc: 81.172 %,pearson: 0.361, spearman: 0.320,elapse: 0.054 s\n",
      "update_rate: 0.001216\t0.003985\t\n",
      "[ Epoch 11 of 60 ]\n"
     ]
    },
    {
     "data": {
      "application/vnd.jupyter.widget-view+json": {
       "model_id": "",
       "version_major": 2,
       "version_minor": 0
      },
      "text/plain": [
       " - (Training) :   0%|          | 0/1000 [00:00<?, ?it/s]"
      ]
     },
     "metadata": {},
     "output_type": "display_data"
    },
    {
     "name": "stdout",
     "output_type": "stream",
     "text": [
      "- (Train)   bce:  0.5039, mse:  0.2043,  acc: 81.179 %, pearson: 0.387, spearman: 0.349, elapse: 21.011 s\n"
     ]
    },
    {
     "data": {
      "application/vnd.jupyter.widget-view+json": {
       "model_id": "",
       "version_major": 2,
       "version_minor": 0
      },
      "text/plain": [
       "  - (Validation)   :   0%|          | 0/10 [00:00<?, ?it/s]"
      ]
     },
     "metadata": {},
     "output_type": "display_data"
    },
    {
     "name": "stdout",
     "output_type": "stream",
     "text": [
      "- (Valid) bce:  0.5072,  acc: 81.109 %,pearson: 0.378, spearman: 0.338,elapse: 0.057 s\n",
      "update_rate: 0.001042\t0.004447\t\n",
      "[ Epoch 12 of 60 ]\n"
     ]
    },
    {
     "data": {
      "application/vnd.jupyter.widget-view+json": {
       "model_id": "",
       "version_major": 2,
       "version_minor": 0
      },
      "text/plain": [
       " - (Training) :   0%|          | 0/1000 [00:00<?, ?it/s]"
      ]
     },
     "metadata": {},
     "output_type": "display_data"
    },
    {
     "name": "stdout",
     "output_type": "stream",
     "text": [
      "- (Train)   bce:  0.5028, mse:  0.2043,  acc: 81.289 %, pearson: 0.391, spearman: 0.353, elapse: 20.270 s\n"
     ]
    },
    {
     "data": {
      "application/vnd.jupyter.widget-view+json": {
       "model_id": "1b5b71b9827b4fb0979f5a1f15194319",
       "version_major": 2,
       "version_minor": 0
      },
      "text/plain": [
       "  - (Validation)   :   0%|          | 0/10 [00:00<?, ?it/s]"
      ]
     },
     "metadata": {},
     "output_type": "display_data"
    },
    {
     "name": "stdout",
     "output_type": "stream",
     "text": [
      "- (Valid) bce:  0.5126,  acc: 80.945 %,pearson: 0.378, spearman: 0.341,elapse: 0.051 s\n",
      "update_rate: 0.001235\t0.004073\t\n",
      "[ Epoch 13 of 60 ]\n"
     ]
    },
    {
     "data": {
      "application/vnd.jupyter.widget-view+json": {
       "model_id": "4df55a20969a49b2b0f862c92d3ff70c",
       "version_major": 2,
       "version_minor": 0
      },
      "text/plain": [
       " - (Training) :   0%|          | 0/1000 [00:00<?, ?it/s]"
      ]
     },
     "metadata": {},
     "output_type": "display_data"
    },
    {
     "name": "stdout",
     "output_type": "stream",
     "text": [
      "- (Train)   bce:  0.5013, mse:  0.2043,  acc: 81.294 %, pearson: 0.394, spearman: 0.354, elapse: 19.222 s\n"
     ]
    },
    {
     "data": {
      "application/vnd.jupyter.widget-view+json": {
       "model_id": "ba639227821d456893fc142478b32e4b",
       "version_major": 2,
       "version_minor": 0
      },
      "text/plain": [
       "  - (Validation)   :   0%|          | 0/10 [00:00<?, ?it/s]"
      ]
     },
     "metadata": {},
     "output_type": "display_data"
    },
    {
     "name": "stdout",
     "output_type": "stream",
     "text": [
      "- (Valid) bce:  0.5084,  acc: 81.258 %,pearson: 0.387, spearman: 0.340,elapse: 0.051 s\n",
      "update_rate: 0.001253\t0.004155\t\n",
      "[ Epoch 14 of 60 ]\n"
     ]
    },
    {
     "data": {
      "application/vnd.jupyter.widget-view+json": {
       "model_id": "574b511f97c54c83a81fbd6bb3117ef2",
       "version_major": 2,
       "version_minor": 0
      },
      "text/plain": [
       " - (Training) :   0%|          | 0/1000 [00:00<?, ?it/s]"
      ]
     },
     "metadata": {},
     "output_type": "display_data"
    },
    {
     "name": "stdout",
     "output_type": "stream",
     "text": [
      "- (Train)   bce:  0.5001, mse:  0.2043,  acc: 81.364 %, pearson: 0.398, spearman: 0.357, elapse: 18.758 s\n"
     ]
    },
    {
     "data": {
      "application/vnd.jupyter.widget-view+json": {
       "model_id": "e7f5376cd06f43afab851bd74788afb7",
       "version_major": 2,
       "version_minor": 0
      },
      "text/plain": [
       "  - (Validation)   :   0%|          | 0/10 [00:00<?, ?it/s]"
      ]
     },
     "metadata": {},
     "output_type": "display_data"
    },
    {
     "name": "stdout",
     "output_type": "stream",
     "text": [
      "- (Valid) bce:  0.5066,  acc: 80.836 %,pearson: 0.366, spearman: 0.336,elapse: 0.049 s\n",
      "update_rate: 0.001302\t0.003726\t\n",
      "[ Epoch 15 of 60 ]\n"
     ]
    },
    {
     "data": {
      "application/vnd.jupyter.widget-view+json": {
       "model_id": "0def924a0a284924acfb6ee9928d5af4",
       "version_major": 2,
       "version_minor": 0
      },
      "text/plain": [
       " - (Training) :   0%|          | 0/1000 [00:00<?, ?it/s]"
      ]
     },
     "metadata": {},
     "output_type": "display_data"
    },
    {
     "name": "stdout",
     "output_type": "stream",
     "text": [
      "- (Train)   bce:  0.4997, mse:  0.2043,  acc: 81.435 %, pearson: 0.400, spearman: 0.359, elapse: 19.460 s\n"
     ]
    },
    {
     "data": {
      "application/vnd.jupyter.widget-view+json": {
       "model_id": "3037a59fd74e4eb79f4607ea7c16536c",
       "version_major": 2,
       "version_minor": 0
      },
      "text/plain": [
       "  - (Validation)   :   0%|          | 0/10 [00:00<?, ?it/s]"
      ]
     },
     "metadata": {},
     "output_type": "display_data"
    },
    {
     "name": "stdout",
     "output_type": "stream",
     "text": [
      "- (Valid) bce:  0.5070,  acc: 81.008 %,pearson: 0.379, spearman: 0.336,elapse: 0.050 s\n",
      "update_rate: 0.001083\t0.006373\t\n",
      "[ Epoch 16 of 60 ]\n"
     ]
    },
    {
     "data": {
      "application/vnd.jupyter.widget-view+json": {
       "model_id": "0d1232fac8d641c8af3e81eeb6744a3e",
       "version_major": 2,
       "version_minor": 0
      },
      "text/plain": [
       " - (Training) :   0%|          | 0/1000 [00:00<?, ?it/s]"
      ]
     },
     "metadata": {},
     "output_type": "display_data"
    },
    {
     "name": "stdout",
     "output_type": "stream",
     "text": [
      "- (Train)   bce:  0.4993, mse:  0.2043,  acc: 81.462 %, pearson: 0.402, spearman: 0.360, elapse: 20.825 s\n"
     ]
    },
    {
     "data": {
      "application/vnd.jupyter.widget-view+json": {
       "model_id": "89d03b0c34f44d478020ee029ecd211b",
       "version_major": 2,
       "version_minor": 0
      },
      "text/plain": [
       "  - (Validation)   :   0%|          | 0/10 [00:00<?, ?it/s]"
      ]
     },
     "metadata": {},
     "output_type": "display_data"
    },
    {
     "name": "stdout",
     "output_type": "stream",
     "text": [
      "- (Valid) bce:  0.5079,  acc: 81.203 %,pearson: 0.379, spearman: 0.337,elapse: 0.050 s\n",
      "update_rate: 0.001155\t0.004058\t\n",
      "[ Epoch 17 of 60 ]\n"
     ]
    },
    {
     "data": {
      "application/vnd.jupyter.widget-view+json": {
       "model_id": "17e4915303be4b0a9ad41ad1d724db77",
       "version_major": 2,
       "version_minor": 0
      },
      "text/plain": [
       " - (Training) :   0%|          | 0/1000 [00:00<?, ?it/s]"
      ]
     },
     "metadata": {},
     "output_type": "display_data"
    },
    {
     "name": "stdout",
     "output_type": "stream",
     "text": [
      "- (Train)   bce:  0.4981, mse:  0.2043,  acc: 81.507 %, pearson: 0.405, spearman: 0.362, elapse: 21.098 s\n"
     ]
    },
    {
     "data": {
      "application/vnd.jupyter.widget-view+json": {
       "model_id": "ccd0000d971d485aa55c9ad72de71b7e",
       "version_major": 2,
       "version_minor": 0
      },
      "text/plain": [
       "  - (Validation)   :   0%|          | 0/10 [00:00<?, ?it/s]"
      ]
     },
     "metadata": {},
     "output_type": "display_data"
    },
    {
     "name": "stdout",
     "output_type": "stream",
     "text": [
      "- (Valid) bce:  0.5070,  acc: 81.148 %,pearson: 0.393, spearman: 0.346,elapse: 0.053 s\n",
      "update_rate: 0.001359\t0.004827\t\n",
      "[ Epoch 18 of 60 ]\n"
     ]
    },
    {
     "data": {
      "application/vnd.jupyter.widget-view+json": {
       "model_id": "56f2b99626104dcb9abd4d1b252022aa",
       "version_major": 2,
       "version_minor": 0
      },
      "text/plain": [
       " - (Training) :   0%|          | 0/1000 [00:00<?, ?it/s]"
      ]
     },
     "metadata": {},
     "output_type": "display_data"
    },
    {
     "name": "stdout",
     "output_type": "stream",
     "text": [
      "- (Train)   bce:  0.4970, mse:  0.2043,  acc: 81.597 %, pearson: 0.408, spearman: 0.365, elapse: 22.326 s\n"
     ]
    },
    {
     "data": {
      "application/vnd.jupyter.widget-view+json": {
       "model_id": "3dc056c0981c46e19efcdfdf3740f28f",
       "version_major": 2,
       "version_minor": 0
      },
      "text/plain": [
       "  - (Validation)   :   0%|          | 0/10 [00:00<?, ?it/s]"
      ]
     },
     "metadata": {},
     "output_type": "display_data"
    },
    {
     "name": "stdout",
     "output_type": "stream",
     "text": [
      "- (Valid) bce:  0.5050,  acc: 81.516 %,pearson: 0.387, spearman: 0.354,elapse: 0.052 s\n",
      "update_rate: 0.000960\t0.003309\t\n",
      "[ Epoch 19 of 60 ]\n"
     ]
    },
    {
     "data": {
      "application/vnd.jupyter.widget-view+json": {
       "model_id": "2a50251fca274261ae6279228b55bb75",
       "version_major": 2,
       "version_minor": 0
      },
      "text/plain": [
       " - (Training) :   0%|          | 0/1000 [00:00<?, ?it/s]"
      ]
     },
     "metadata": {},
     "output_type": "display_data"
    },
    {
     "name": "stdout",
     "output_type": "stream",
     "text": [
      "- (Train)   bce:  0.4964, mse:  0.2044,  acc: 81.608 %, pearson: 0.410, spearman: 0.366, elapse: 21.233 s\n"
     ]
    },
    {
     "data": {
      "application/vnd.jupyter.widget-view+json": {
       "model_id": "8cbd7943555b4033913217f8cfb4c9df",
       "version_major": 2,
       "version_minor": 0
      },
      "text/plain": [
       "  - (Validation)   :   0%|          | 0/10 [00:00<?, ?it/s]"
      ]
     },
     "metadata": {},
     "output_type": "display_data"
    },
    {
     "name": "stdout",
     "output_type": "stream",
     "text": [
      "- (Valid) bce:  0.5059,  acc: 81.227 %,pearson: 0.375, spearman: 0.331,elapse: 0.050 s\n",
      "update_rate: 0.001179\t0.003602\t\n",
      "[ Epoch 20 of 60 ]\n"
     ]
    },
    {
     "data": {
      "application/vnd.jupyter.widget-view+json": {
       "model_id": "bbd015c989a0425091da82cabf70d540",
       "version_major": 2,
       "version_minor": 0
      },
      "text/plain": [
       " - (Training) :   0%|          | 0/1000 [00:00<?, ?it/s]"
      ]
     },
     "metadata": {},
     "output_type": "display_data"
    },
    {
     "name": "stdout",
     "output_type": "stream",
     "text": [
      "- (Train)   bce:  0.4963, mse:  0.2044,  acc: 81.600 %, pearson: 0.410, spearman: 0.367, elapse: 21.490 s\n"
     ]
    },
    {
     "data": {
      "application/vnd.jupyter.widget-view+json": {
       "model_id": "e6312b3eb3bf4d3a8a55712ce9a87207",
       "version_major": 2,
       "version_minor": 0
      },
      "text/plain": [
       "  - (Validation)   :   0%|          | 0/10 [00:00<?, ?it/s]"
      ]
     },
     "metadata": {},
     "output_type": "display_data"
    },
    {
     "name": "stdout",
     "output_type": "stream",
     "text": [
      "- (Valid) bce:  0.5005,  acc: 81.695 %,pearson: 0.400, spearman: 0.352,elapse: 0.051 s\n",
      "update_rate: 0.000886\t0.006525\t\n",
      "[ Epoch 21 of 60 ]\n"
     ]
    },
    {
     "data": {
      "application/vnd.jupyter.widget-view+json": {
       "model_id": "f51dd5292179426fa4faebbf86552ff5",
       "version_major": 2,
       "version_minor": 0
      },
      "text/plain": [
       " - (Training) :   0%|          | 0/1000 [00:00<?, ?it/s]"
      ]
     },
     "metadata": {},
     "output_type": "display_data"
    },
    {
     "name": "stdout",
     "output_type": "stream",
     "text": [
      "- (Train)   bce:  0.4952, mse:  0.2044,  acc: 81.695 %, pearson: 0.414, spearman: 0.368, elapse: 19.464 s\n"
     ]
    },
    {
     "data": {
      "application/vnd.jupyter.widget-view+json": {
       "model_id": "6ac914ef4c174cd9ba5f44d0810ed455",
       "version_major": 2,
       "version_minor": 0
      },
      "text/plain": [
       "  - (Validation)   :   0%|          | 0/10 [00:00<?, ?it/s]"
      ]
     },
     "metadata": {},
     "output_type": "display_data"
    },
    {
     "name": "stdout",
     "output_type": "stream",
     "text": [
      "- (Valid) bce:  0.5090,  acc: 81.297 %,pearson: 0.378, spearman: 0.336,elapse: 0.051 s\n",
      "update_rate: 0.001441\t0.004904\t\n",
      "[ Epoch 22 of 60 ]\n"
     ]
    },
    {
     "data": {
      "application/vnd.jupyter.widget-view+json": {
       "model_id": "f6ebf5e2ada840e2a601509efb9a6fa5",
       "version_major": 2,
       "version_minor": 0
      },
      "text/plain": [
       " - (Training) :   0%|          | 0/1000 [00:00<?, ?it/s]"
      ]
     },
     "metadata": {},
     "output_type": "display_data"
    },
    {
     "name": "stdout",
     "output_type": "stream",
     "text": [
      "- (Train)   bce:  0.4948, mse:  0.2044,  acc: 81.684 %, pearson: 0.414, spearman: 0.369, elapse: 20.036 s\n"
     ]
    },
    {
     "data": {
      "application/vnd.jupyter.widget-view+json": {
       "model_id": "1c8ce159ba6a432fa5405e5e268a1550",
       "version_major": 2,
       "version_minor": 0
      },
      "text/plain": [
       "  - (Validation)   :   0%|          | 0/10 [00:00<?, ?it/s]"
      ]
     },
     "metadata": {},
     "output_type": "display_data"
    },
    {
     "name": "stdout",
     "output_type": "stream",
     "text": [
      "- (Valid) bce:  0.5069,  acc: 81.688 %,pearson: 0.388, spearman: 0.333,elapse: 0.049 s\n",
      "update_rate: 0.001493\t0.003922\t\n",
      "[ Epoch 23 of 60 ]\n"
     ]
    },
    {
     "data": {
      "application/vnd.jupyter.widget-view+json": {
       "model_id": "1c0bd6e1c9bf4a63b907a901659c9186",
       "version_major": 2,
       "version_minor": 0
      },
      "text/plain": [
       " - (Training) :   0%|          | 0/1000 [00:00<?, ?it/s]"
      ]
     },
     "metadata": {},
     "output_type": "display_data"
    },
    {
     "name": "stdout",
     "output_type": "stream",
     "text": [
      "- (Train)   bce:  0.4942, mse:  0.2044,  acc: 81.737 %, pearson: 0.418, spearman: 0.372, elapse: 20.372 s\n"
     ]
    },
    {
     "data": {
      "application/vnd.jupyter.widget-view+json": {
       "model_id": "0d2609e09a1b4008b5c6ae1941b1dea3",
       "version_major": 2,
       "version_minor": 0
      },
      "text/plain": [
       "  - (Validation)   :   0%|          | 0/10 [00:00<?, ?it/s]"
      ]
     },
     "metadata": {},
     "output_type": "display_data"
    },
    {
     "name": "stdout",
     "output_type": "stream",
     "text": [
      "- (Valid) bce:  0.4998,  acc: 81.289 %,pearson: 0.378, spearman: 0.338,elapse: 0.054 s\n",
      "update_rate: 0.001309\t0.004663\t\n",
      "[ Epoch 24 of 60 ]\n"
     ]
    },
    {
     "data": {
      "application/vnd.jupyter.widget-view+json": {
       "model_id": "bd20fda0bdb24292982c23a90df2abfb",
       "version_major": 2,
       "version_minor": 0
      },
      "text/plain": [
       " - (Training) :   0%|          | 0/1000 [00:00<?, ?it/s]"
      ]
     },
     "metadata": {},
     "output_type": "display_data"
    },
    {
     "name": "stdout",
     "output_type": "stream",
     "text": [
      "- (Train)   bce:  0.4936, mse:  0.2044,  acc: 81.766 %, pearson: 0.419, spearman: 0.373, elapse: 21.189 s\n"
     ]
    },
    {
     "data": {
      "application/vnd.jupyter.widget-view+json": {
       "model_id": "4c1463dee4fd432f9400f05a659ca0fb",
       "version_major": 2,
       "version_minor": 0
      },
      "text/plain": [
       "  - (Validation)   :   0%|          | 0/10 [00:00<?, ?it/s]"
      ]
     },
     "metadata": {},
     "output_type": "display_data"
    },
    {
     "name": "stdout",
     "output_type": "stream",
     "text": [
      "- (Valid) bce:  0.5067,  acc: 82.070 %,pearson: 0.398, spearman: 0.340,elapse: 0.052 s\n",
      "update_rate: 0.001575\t0.004752\t\n",
      "[ Epoch 25 of 60 ]\n"
     ]
    },
    {
     "data": {
      "application/vnd.jupyter.widget-view+json": {
       "model_id": "c2b733a30206450b80e00b393a37161c",
       "version_major": 2,
       "version_minor": 0
      },
      "text/plain": [
       " - (Training) :   0%|          | 0/1000 [00:00<?, ?it/s]"
      ]
     },
     "metadata": {},
     "output_type": "display_data"
    },
    {
     "name": "stdout",
     "output_type": "stream",
     "text": [
      "- (Train)   bce:  0.4930, mse:  0.2044,  acc: 81.780 %, pearson: 0.419, spearman: 0.373, elapse: 19.043 s\n"
     ]
    },
    {
     "data": {
      "application/vnd.jupyter.widget-view+json": {
       "model_id": "9fc6b0e3c0de421eb3899958b37b9c0a",
       "version_major": 2,
       "version_minor": 0
      },
      "text/plain": [
       "  - (Validation)   :   0%|          | 0/10 [00:00<?, ?it/s]"
      ]
     },
     "metadata": {},
     "output_type": "display_data"
    },
    {
     "name": "stdout",
     "output_type": "stream",
     "text": [
      "- (Valid) bce:  0.5040,  acc: 81.547 %,pearson: 0.398, spearman: 0.351,elapse: 0.052 s\n",
      "update_rate: 0.001195\t0.004744\t\n",
      "[ Epoch 26 of 60 ]\n"
     ]
    },
    {
     "data": {
      "application/vnd.jupyter.widget-view+json": {
       "model_id": "23a1bbb8d3f94054946ead7f5e24ebfe",
       "version_major": 2,
       "version_minor": 0
      },
      "text/plain": [
       " - (Training) :   0%|          | 0/1000 [00:00<?, ?it/s]"
      ]
     },
     "metadata": {},
     "output_type": "display_data"
    },
    {
     "name": "stdout",
     "output_type": "stream",
     "text": [
      "- (Train)   bce:  0.4923, mse:  0.2044,  acc: 81.818 %, pearson: 0.423, spearman: 0.376, elapse: 18.944 s\n"
     ]
    },
    {
     "data": {
      "application/vnd.jupyter.widget-view+json": {
       "model_id": "feff89b44a8946ab80249243f0f2347f",
       "version_major": 2,
       "version_minor": 0
      },
      "text/plain": [
       "  - (Validation)   :   0%|          | 0/10 [00:00<?, ?it/s]"
      ]
     },
     "metadata": {},
     "output_type": "display_data"
    },
    {
     "name": "stdout",
     "output_type": "stream",
     "text": [
      "- (Valid) bce:  0.5013,  acc: 81.320 %,pearson: 0.392, spearman: 0.345,elapse: 0.052 s\n",
      "update_rate: 0.001237\t0.004293\t\n",
      "[ Epoch 27 of 60 ]\n"
     ]
    },
    {
     "data": {
      "application/vnd.jupyter.widget-view+json": {
       "model_id": "f7642af5d0014ae8ba05615a2d50c171",
       "version_major": 2,
       "version_minor": 0
      },
      "text/plain": [
       " - (Training) :   0%|          | 0/1000 [00:00<?, ?it/s]"
      ]
     },
     "metadata": {},
     "output_type": "display_data"
    },
    {
     "name": "stdout",
     "output_type": "stream",
     "text": [
      "- (Train)   bce:  0.4921, mse:  0.2044,  acc: 81.843 %, pearson: 0.424, spearman: 0.376, elapse: 17.781 s\n"
     ]
    },
    {
     "data": {
      "application/vnd.jupyter.widget-view+json": {
       "model_id": "e2f8ce6b495c494c900032b38f876cb2",
       "version_major": 2,
       "version_minor": 0
      },
      "text/plain": [
       "  - (Validation)   :   0%|          | 0/10 [00:00<?, ?it/s]"
      ]
     },
     "metadata": {},
     "output_type": "display_data"
    },
    {
     "name": "stdout",
     "output_type": "stream",
     "text": [
      "- (Valid) bce:  0.5060,  acc: 81.359 %,pearson: 0.385, spearman: 0.337,elapse: 0.054 s\n",
      "update_rate: 0.001202\t0.004335\t\n",
      "[ Epoch 28 of 60 ]\n"
     ]
    },
    {
     "data": {
      "application/vnd.jupyter.widget-view+json": {
       "model_id": "27fc49698c6249e4b48183a7d499e93d",
       "version_major": 2,
       "version_minor": 0
      },
      "text/plain": [
       " - (Training) :   0%|          | 0/1000 [00:00<?, ?it/s]"
      ]
     },
     "metadata": {},
     "output_type": "display_data"
    },
    {
     "name": "stdout",
     "output_type": "stream",
     "text": [
      "- (Train)   bce:  0.4922, mse:  0.2044,  acc: 81.815 %, pearson: 0.423, spearman: 0.376, elapse: 22.514 s\n"
     ]
    },
    {
     "data": {
      "application/vnd.jupyter.widget-view+json": {
       "model_id": "99e7ed947c0845b7af23197dd400e02d",
       "version_major": 2,
       "version_minor": 0
      },
      "text/plain": [
       "  - (Validation)   :   0%|          | 0/10 [00:00<?, ?it/s]"
      ]
     },
     "metadata": {},
     "output_type": "display_data"
    },
    {
     "name": "stdout",
     "output_type": "stream",
     "text": [
      "- (Valid) bce:  0.5090,  acc: 81.289 %,pearson: 0.383, spearman: 0.343,elapse: 0.054 s\n",
      "update_rate: 0.001329\t0.004841\t\n",
      "[ Epoch 29 of 60 ]\n"
     ]
    },
    {
     "data": {
      "application/vnd.jupyter.widget-view+json": {
       "model_id": "bfcd32e02b964d3b80845027e168e7e2",
       "version_major": 2,
       "version_minor": 0
      },
      "text/plain": [
       " - (Training) :   0%|          | 0/1000 [00:00<?, ?it/s]"
      ]
     },
     "metadata": {},
     "output_type": "display_data"
    },
    {
     "name": "stdout",
     "output_type": "stream",
     "text": [
      "- (Train)   bce:  0.4913, mse:  0.2044,  acc: 81.882 %, pearson: 0.426, spearman: 0.378, elapse: 19.706 s\n"
     ]
    },
    {
     "data": {
      "application/vnd.jupyter.widget-view+json": {
       "model_id": "afe63245528147baaefc52f0adfc4ca3",
       "version_major": 2,
       "version_minor": 0
      },
      "text/plain": [
       "  - (Validation)   :   0%|          | 0/10 [00:00<?, ?it/s]"
      ]
     },
     "metadata": {},
     "output_type": "display_data"
    },
    {
     "name": "stdout",
     "output_type": "stream",
     "text": [
      "- (Valid) bce:  0.5102,  acc: 81.531 %,pearson: 0.394, spearman: 0.345,elapse: 0.052 s\n",
      "update_rate: 0.001501\t0.006425\t\n",
      "[ Epoch 30 of 60 ]\n"
     ]
    },
    {
     "data": {
      "application/vnd.jupyter.widget-view+json": {
       "model_id": "31bcd341e88f4e5bbcc7a6f98ae2197c",
       "version_major": 2,
       "version_minor": 0
      },
      "text/plain": [
       " - (Training) :   0%|          | 0/1000 [00:00<?, ?it/s]"
      ]
     },
     "metadata": {},
     "output_type": "display_data"
    },
    {
     "name": "stdout",
     "output_type": "stream",
     "text": [
      "- (Train)   bce:  0.4907, mse:  0.2044,  acc: 81.935 %, pearson: 0.428, spearman: 0.380, elapse: 21.373 s\n"
     ]
    },
    {
     "data": {
      "application/vnd.jupyter.widget-view+json": {
       "model_id": "35b78905939a424ea9402f57ed957e72",
       "version_major": 2,
       "version_minor": 0
      },
      "text/plain": [
       "  - (Validation)   :   0%|          | 0/10 [00:00<?, ?it/s]"
      ]
     },
     "metadata": {},
     "output_type": "display_data"
    },
    {
     "name": "stdout",
     "output_type": "stream",
     "text": [
      "- (Valid) bce:  0.5059,  acc: 81.719 %,pearson: 0.396, spearman: 0.347,elapse: 0.051 s\n",
      "update_rate: 0.001316\t0.005133\t\n",
      "[ Epoch 31 of 60 ]\n"
     ]
    },
    {
     "data": {
      "application/vnd.jupyter.widget-view+json": {
       "model_id": "5d458ac859ca489cb0224bc4527e9129",
       "version_major": 2,
       "version_minor": 0
      },
      "text/plain": [
       " - (Training) :   0%|          | 0/1000 [00:00<?, ?it/s]"
      ]
     },
     "metadata": {},
     "output_type": "display_data"
    },
    {
     "name": "stdout",
     "output_type": "stream",
     "text": [
      "- (Train)   bce:  0.4903, mse:  0.2044,  acc: 81.974 %, pearson: 0.429, spearman: 0.380, elapse: 19.110 s\n"
     ]
    },
    {
     "data": {
      "application/vnd.jupyter.widget-view+json": {
       "model_id": "005cf95687924f08bdfe89902372ae8d",
       "version_major": 2,
       "version_minor": 0
      },
      "text/plain": [
       "  - (Validation)   :   0%|          | 0/10 [00:00<?, ?it/s]"
      ]
     },
     "metadata": {},
     "output_type": "display_data"
    },
    {
     "name": "stdout",
     "output_type": "stream",
     "text": [
      "- (Valid) bce:  0.5058,  acc: 81.555 %,pearson: 0.392, spearman: 0.349,elapse: 0.057 s\n",
      "update_rate: 0.001415\t0.004784\t\n",
      "[ Epoch 32 of 60 ]\n"
     ]
    },
    {
     "data": {
      "application/vnd.jupyter.widget-view+json": {
       "model_id": "e327e17f204e47c893746917ea13a395",
       "version_major": 2,
       "version_minor": 0
      },
      "text/plain": [
       " - (Training) :   0%|          | 0/1000 [00:00<?, ?it/s]"
      ]
     },
     "metadata": {},
     "output_type": "display_data"
    },
    {
     "name": "stdout",
     "output_type": "stream",
     "text": [
      "- (Train)   bce:  0.4904, mse:  0.2044,  acc: 81.964 %, pearson: 0.429, spearman: 0.380, elapse: 18.556 s\n"
     ]
    },
    {
     "data": {
      "application/vnd.jupyter.widget-view+json": {
       "model_id": "87b71d41ae4048028d6b145d0a1f25b9",
       "version_major": 2,
       "version_minor": 0
      },
      "text/plain": [
       "  - (Validation)   :   0%|          | 0/10 [00:00<?, ?it/s]"
      ]
     },
     "metadata": {},
     "output_type": "display_data"
    },
    {
     "name": "stdout",
     "output_type": "stream",
     "text": [
      "- (Valid) bce:  0.5041,  acc: 81.664 %,pearson: 0.394, spearman: 0.336,elapse: 0.051 s\n",
      "update_rate: 0.001258\t0.005105\t\n",
      "[ Epoch 33 of 60 ]\n"
     ]
    },
    {
     "data": {
      "application/vnd.jupyter.widget-view+json": {
       "model_id": "d45b3d2b0851416aa76492f23c25772d",
       "version_major": 2,
       "version_minor": 0
      },
      "text/plain": [
       " - (Training) :   0%|          | 0/1000 [00:00<?, ?it/s]"
      ]
     },
     "metadata": {},
     "output_type": "display_data"
    },
    {
     "name": "stdout",
     "output_type": "stream",
     "text": [
      "- (Train)   bce:  0.4898, mse:  0.2044,  acc: 81.974 %, pearson: 0.430, spearman: 0.381, elapse: 18.943 s\n"
     ]
    },
    {
     "data": {
      "application/vnd.jupyter.widget-view+json": {
       "model_id": "375c023ea1624cd0872b18684d3a8f47",
       "version_major": 2,
       "version_minor": 0
      },
      "text/plain": [
       "  - (Validation)   :   0%|          | 0/10 [00:00<?, ?it/s]"
      ]
     },
     "metadata": {},
     "output_type": "display_data"
    },
    {
     "name": "stdout",
     "output_type": "stream",
     "text": [
      "- (Valid) bce:  0.5020,  acc: 81.750 %,pearson: 0.400, spearman: 0.357,elapse: 0.050 s\n",
      "update_rate: 0.001415\t0.004545\t\n",
      "[ Epoch 34 of 60 ]\n"
     ]
    },
    {
     "data": {
      "application/vnd.jupyter.widget-view+json": {
       "model_id": "e97feb64a3114bbdbc395b5b8932fc3e",
       "version_major": 2,
       "version_minor": 0
      },
      "text/plain": [
       " - (Training) :   0%|          | 0/1000 [00:00<?, ?it/s]"
      ]
     },
     "metadata": {},
     "output_type": "display_data"
    },
    {
     "name": "stdout",
     "output_type": "stream",
     "text": [
      "- (Train)   bce:  0.4898, mse:  0.2044,  acc: 81.999 %, pearson: 0.431, spearman: 0.382, elapse: 19.166 s\n"
     ]
    },
    {
     "data": {
      "application/vnd.jupyter.widget-view+json": {
       "model_id": "fed844486818458c9e0f72b6c899d525",
       "version_major": 2,
       "version_minor": 0
      },
      "text/plain": [
       "  - (Validation)   :   0%|          | 0/10 [00:00<?, ?it/s]"
      ]
     },
     "metadata": {},
     "output_type": "display_data"
    },
    {
     "name": "stdout",
     "output_type": "stream",
     "text": [
      "- (Valid) bce:  0.5113,  acc: 81.625 %,pearson: 0.389, spearman: 0.347,elapse: 0.057 s\n",
      "update_rate: 0.001309\t0.004759\t\n",
      "[ Epoch 35 of 60 ]\n"
     ]
    },
    {
     "data": {
      "application/vnd.jupyter.widget-view+json": {
       "model_id": "7df91e9b357d489a9a2f3eb01a9fb262",
       "version_major": 2,
       "version_minor": 0
      },
      "text/plain": [
       " - (Training) :   0%|          | 0/1000 [00:00<?, ?it/s]"
      ]
     },
     "metadata": {},
     "output_type": "display_data"
    },
    {
     "name": "stdout",
     "output_type": "stream",
     "text": [
      "- (Train)   bce:  0.4892, mse:  0.2044,  acc: 82.002 %, pearson: 0.432, spearman: 0.383, elapse: 20.387 s\n"
     ]
    },
    {
     "data": {
      "application/vnd.jupyter.widget-view+json": {
       "model_id": "01f7eacac64d4e7e8d0ed76cece0e9a2",
       "version_major": 2,
       "version_minor": 0
      },
      "text/plain": [
       "  - (Validation)   :   0%|          | 0/10 [00:00<?, ?it/s]"
      ]
     },
     "metadata": {},
     "output_type": "display_data"
    },
    {
     "name": "stdout",
     "output_type": "stream",
     "text": [
      "- (Valid) bce:  0.5046,  acc: 81.891 %,pearson: 0.392, spearman: 0.330,elapse: 0.054 s\n",
      "update_rate: 0.001155\t0.004013\t\n",
      "[ Epoch 36 of 60 ]\n"
     ]
    },
    {
     "data": {
      "application/vnd.jupyter.widget-view+json": {
       "model_id": "19fe2d59d4014727bf0d9a30059b103a",
       "version_major": 2,
       "version_minor": 0
      },
      "text/plain": [
       " - (Training) :   0%|          | 0/1000 [00:00<?, ?it/s]"
      ]
     },
     "metadata": {},
     "output_type": "display_data"
    },
    {
     "name": "stdout",
     "output_type": "stream",
     "text": [
      "- (Train)   bce:  0.4887, mse:  0.2044,  acc: 82.030 %, pearson: 0.434, spearman: 0.384, elapse: 17.290 s\n"
     ]
    },
    {
     "data": {
      "application/vnd.jupyter.widget-view+json": {
       "model_id": "86aa5bb5f43a4e39bbe5457a1dc16513",
       "version_major": 2,
       "version_minor": 0
      },
      "text/plain": [
       "  - (Validation)   :   0%|          | 0/10 [00:00<?, ?it/s]"
      ]
     },
     "metadata": {},
     "output_type": "display_data"
    },
    {
     "name": "stdout",
     "output_type": "stream",
     "text": [
      "- (Valid) bce:  0.4975,  acc: 81.688 %,pearson: 0.408, spearman: 0.357,elapse: 0.049 s\n",
      "update_rate: 0.001311\t0.004725\t\n",
      "[ Epoch 37 of 60 ]\n"
     ]
    },
    {
     "data": {
      "application/vnd.jupyter.widget-view+json": {
       "model_id": "65353d23352240779062873c63661806",
       "version_major": 2,
       "version_minor": 0
      },
      "text/plain": [
       " - (Training) :   0%|          | 0/1000 [00:00<?, ?it/s]"
      ]
     },
     "metadata": {},
     "output_type": "display_data"
    },
    {
     "name": "stdout",
     "output_type": "stream",
     "text": [
      "- (Train)   bce:  0.4882, mse:  0.2045,  acc: 82.049 %, pearson: 0.436, spearman: 0.386, elapse: 19.918 s\n"
     ]
    },
    {
     "data": {
      "application/vnd.jupyter.widget-view+json": {
       "model_id": "17a57e08ec564fcca64b2c47bd11da0d",
       "version_major": 2,
       "version_minor": 0
      },
      "text/plain": [
       "  - (Validation)   :   0%|          | 0/10 [00:00<?, ?it/s]"
      ]
     },
     "metadata": {},
     "output_type": "display_data"
    },
    {
     "name": "stdout",
     "output_type": "stream",
     "text": [
      "- (Valid) bce:  0.5067,  acc: 81.562 %,pearson: 0.389, spearman: 0.343,elapse: 0.054 s\n",
      "update_rate: 0.001367\t0.004215\t\n",
      "[ Epoch 38 of 60 ]\n"
     ]
    },
    {
     "data": {
      "application/vnd.jupyter.widget-view+json": {
       "model_id": "a0c60f8b57664b7590bd6d0a16b498a6",
       "version_major": 2,
       "version_minor": 0
      },
      "text/plain": [
       " - (Training) :   0%|          | 0/1000 [00:00<?, ?it/s]"
      ]
     },
     "metadata": {},
     "output_type": "display_data"
    },
    {
     "name": "stdout",
     "output_type": "stream",
     "text": [
      "- (Train)   bce:  0.4886, mse:  0.2045,  acc: 82.052 %, pearson: 0.434, spearman: 0.384, elapse: 20.345 s\n"
     ]
    },
    {
     "data": {
      "application/vnd.jupyter.widget-view+json": {
       "model_id": "266f7a30bab046adaac5c9b7e9071c0b",
       "version_major": 2,
       "version_minor": 0
      },
      "text/plain": [
       "  - (Validation)   :   0%|          | 0/10 [00:00<?, ?it/s]"
      ]
     },
     "metadata": {},
     "output_type": "display_data"
    },
    {
     "name": "stdout",
     "output_type": "stream",
     "text": [
      "- (Valid) bce:  0.5110,  acc: 81.578 %,pearson: 0.387, spearman: 0.339,elapse: 0.053 s\n",
      "update_rate: 0.001156\t0.003894\t\n",
      "[ Epoch 39 of 60 ]\n"
     ]
    },
    {
     "data": {
      "application/vnd.jupyter.widget-view+json": {
       "model_id": "2b072d0339a6461088581f9457351360",
       "version_major": 2,
       "version_minor": 0
      },
      "text/plain": [
       " - (Training) :   0%|          | 0/1000 [00:00<?, ?it/s]"
      ]
     },
     "metadata": {},
     "output_type": "display_data"
    },
    {
     "name": "stdout",
     "output_type": "stream",
     "text": [
      "- (Train)   bce:  0.4880, mse:  0.2045,  acc: 82.116 %, pearson: 0.437, spearman: 0.386, elapse: 20.705 s\n"
     ]
    },
    {
     "data": {
      "application/vnd.jupyter.widget-view+json": {
       "model_id": "d50780f8a6514968843f4520a8b72372",
       "version_major": 2,
       "version_minor": 0
      },
      "text/plain": [
       "  - (Validation)   :   0%|          | 0/10 [00:00<?, ?it/s]"
      ]
     },
     "metadata": {},
     "output_type": "display_data"
    },
    {
     "name": "stdout",
     "output_type": "stream",
     "text": [
      "- (Valid) bce:  0.5046,  acc: 81.594 %,pearson: 0.388, spearman: 0.347,elapse: 0.057 s\n",
      "update_rate: 0.000938\t0.004488\t\n",
      "[ Epoch 40 of 60 ]\n"
     ]
    },
    {
     "data": {
      "application/vnd.jupyter.widget-view+json": {
       "model_id": "a9d9fd185af84aed8947a4b0d5752458",
       "version_major": 2,
       "version_minor": 0
      },
      "text/plain": [
       " - (Training) :   0%|          | 0/1000 [00:00<?, ?it/s]"
      ]
     },
     "metadata": {},
     "output_type": "display_data"
    },
    {
     "name": "stdout",
     "output_type": "stream",
     "text": [
      "- (Train)   bce:  0.4876, mse:  0.2045,  acc: 82.120 %, pearson: 0.437, spearman: 0.387, elapse: 18.695 s\n"
     ]
    },
    {
     "data": {
      "application/vnd.jupyter.widget-view+json": {
       "model_id": "dc23429edbbd4be291542fe042838bbd",
       "version_major": 2,
       "version_minor": 0
      },
      "text/plain": [
       "  - (Validation)   :   0%|          | 0/10 [00:00<?, ?it/s]"
      ]
     },
     "metadata": {},
     "output_type": "display_data"
    },
    {
     "name": "stdout",
     "output_type": "stream",
     "text": [
      "- (Valid) bce:  0.5022,  acc: 81.422 %,pearson: 0.391, spearman: 0.349,elapse: 0.051 s\n",
      "update_rate: 0.001581\t0.004228\t\n",
      "[ Epoch 41 of 60 ]\n"
     ]
    },
    {
     "data": {
      "application/vnd.jupyter.widget-view+json": {
       "model_id": "a827cac4c9b440189ed0cd012c749664",
       "version_major": 2,
       "version_minor": 0
      },
      "text/plain": [
       " - (Training) :   0%|          | 0/1000 [00:00<?, ?it/s]"
      ]
     },
     "metadata": {},
     "output_type": "display_data"
    },
    {
     "name": "stdout",
     "output_type": "stream",
     "text": [
      "- (Train)   bce:  0.4870, mse:  0.2045,  acc: 82.120 %, pearson: 0.439, spearman: 0.387, elapse: 20.134 s\n"
     ]
    },
    {
     "data": {
      "application/vnd.jupyter.widget-view+json": {
       "model_id": "002b0ce57f154c44a1b6eb6ed8da65e0",
       "version_major": 2,
       "version_minor": 0
      },
      "text/plain": [
       "  - (Validation)   :   0%|          | 0/10 [00:00<?, ?it/s]"
      ]
     },
     "metadata": {},
     "output_type": "display_data"
    },
    {
     "name": "stdout",
     "output_type": "stream",
     "text": [
      "- (Valid) bce:  0.5024,  acc: 81.633 %,pearson: 0.399, spearman: 0.352,elapse: 0.052 s\n",
      "update_rate: 0.001547\t0.004992\t\n",
      "[ Epoch 42 of 60 ]\n"
     ]
    },
    {
     "data": {
      "application/vnd.jupyter.widget-view+json": {
       "model_id": "49780eac92104261a6605898ee89afcf",
       "version_major": 2,
       "version_minor": 0
      },
      "text/plain": [
       " - (Training) :   0%|          | 0/1000 [00:00<?, ?it/s]"
      ]
     },
     "metadata": {},
     "output_type": "display_data"
    },
    {
     "name": "stdout",
     "output_type": "stream",
     "text": [
      "- (Train)   bce:  0.4873, mse:  0.2045,  acc: 82.108 %, pearson: 0.438, spearman: 0.387, elapse: 19.406 s\n"
     ]
    },
    {
     "data": {
      "application/vnd.jupyter.widget-view+json": {
       "model_id": "2a5b073062574a5b9d3501ea40e61a13",
       "version_major": 2,
       "version_minor": 0
      },
      "text/plain": [
       "  - (Validation)   :   0%|          | 0/10 [00:00<?, ?it/s]"
      ]
     },
     "metadata": {},
     "output_type": "display_data"
    },
    {
     "name": "stdout",
     "output_type": "stream",
     "text": [
      "- (Valid) bce:  0.5027,  acc: 81.625 %,pearson: 0.401, spearman: 0.345,elapse: 0.052 s\n",
      "update_rate: 0.001455\t0.005740\t\n",
      "[ Epoch 43 of 60 ]\n"
     ]
    },
    {
     "data": {
      "application/vnd.jupyter.widget-view+json": {
       "model_id": "4203ad650fb6489d9d981c64028927e4",
       "version_major": 2,
       "version_minor": 0
      },
      "text/plain": [
       " - (Training) :   0%|          | 0/1000 [00:00<?, ?it/s]"
      ]
     },
     "metadata": {},
     "output_type": "display_data"
    },
    {
     "name": "stdout",
     "output_type": "stream",
     "text": [
      "- (Train)   bce:  0.4871, mse:  0.2045,  acc: 82.153 %, pearson: 0.439, spearman: 0.388, elapse: 19.738 s\n"
     ]
    },
    {
     "data": {
      "application/vnd.jupyter.widget-view+json": {
       "model_id": "99f3c04c66e04dae909186211b522178",
       "version_major": 2,
       "version_minor": 0
      },
      "text/plain": [
       "  - (Validation)   :   0%|          | 0/10 [00:00<?, ?it/s]"
      ]
     },
     "metadata": {},
     "output_type": "display_data"
    },
    {
     "name": "stdout",
     "output_type": "stream",
     "text": [
      "- (Valid) bce:  0.5056,  acc: 81.906 %,pearson: 0.403, spearman: 0.349,elapse: 0.050 s\n",
      "update_rate: 0.001790\t0.005918\t\n",
      "[ Epoch 44 of 60 ]\n"
     ]
    },
    {
     "data": {
      "application/vnd.jupyter.widget-view+json": {
       "model_id": "a389e82b648d45b2a91b5c945d3b43ff",
       "version_major": 2,
       "version_minor": 0
      },
      "text/plain": [
       " - (Training) :   0%|          | 0/1000 [00:00<?, ?it/s]"
      ]
     },
     "metadata": {},
     "output_type": "display_data"
    },
    {
     "name": "stdout",
     "output_type": "stream",
     "text": [
      "- (Train)   bce:  0.4863, mse:  0.2045,  acc: 82.155 %, pearson: 0.440, spearman: 0.389, elapse: 19.954 s\n"
     ]
    },
    {
     "data": {
      "application/vnd.jupyter.widget-view+json": {
       "model_id": "a5771bdc3b41424a9df98cab34655a30",
       "version_major": 2,
       "version_minor": 0
      },
      "text/plain": [
       "  - (Validation)   :   0%|          | 0/10 [00:00<?, ?it/s]"
      ]
     },
     "metadata": {},
     "output_type": "display_data"
    },
    {
     "name": "stdout",
     "output_type": "stream",
     "text": [
      "- (Valid) bce:  0.5005,  acc: 81.984 %,pearson: 0.406, spearman: 0.348,elapse: 0.048 s\n",
      "update_rate: 0.001385\t0.004872\t\n",
      "[ Epoch 45 of 60 ]\n"
     ]
    },
    {
     "data": {
      "application/vnd.jupyter.widget-view+json": {
       "model_id": "a7ec3e6a5411423fb3d28ab4f27b0eb6",
       "version_major": 2,
       "version_minor": 0
      },
      "text/plain": [
       " - (Training) :   0%|          | 0/1000 [00:00<?, ?it/s]"
      ]
     },
     "metadata": {},
     "output_type": "display_data"
    },
    {
     "name": "stdout",
     "output_type": "stream",
     "text": [
      "- (Train)   bce:  0.4862, mse:  0.2045,  acc: 82.223 %, pearson: 0.442, spearman: 0.390, elapse: 21.905 s\n"
     ]
    },
    {
     "data": {
      "application/vnd.jupyter.widget-view+json": {
       "model_id": "a0e381293fd94c6281f22ffea5dd0650",
       "version_major": 2,
       "version_minor": 0
      },
      "text/plain": [
       "  - (Validation)   :   0%|          | 0/10 [00:00<?, ?it/s]"
      ]
     },
     "metadata": {},
     "output_type": "display_data"
    },
    {
     "name": "stdout",
     "output_type": "stream",
     "text": [
      "- (Valid) bce:  0.4991,  acc: 81.703 %,pearson: 0.399, spearman: 0.359,elapse: 0.050 s\n",
      "update_rate: 0.001282\t0.004522\t\n",
      "[ Epoch 46 of 60 ]\n"
     ]
    },
    {
     "data": {
      "application/vnd.jupyter.widget-view+json": {
       "model_id": "7a6c8b16094544debb0a2b3170b3b817",
       "version_major": 2,
       "version_minor": 0
      },
      "text/plain": [
       " - (Training) :   0%|          | 0/1000 [00:00<?, ?it/s]"
      ]
     },
     "metadata": {},
     "output_type": "display_data"
    },
    {
     "name": "stdout",
     "output_type": "stream",
     "text": [
      "- (Train)   bce:  0.4863, mse:  0.2045,  acc: 82.155 %, pearson: 0.440, spearman: 0.389, elapse: 18.577 s\n"
     ]
    },
    {
     "data": {
      "application/vnd.jupyter.widget-view+json": {
       "model_id": "88085378fa914023a3fb00ccc65220a7",
       "version_major": 2,
       "version_minor": 0
      },
      "text/plain": [
       "  - (Validation)   :   0%|          | 0/10 [00:00<?, ?it/s]"
      ]
     },
     "metadata": {},
     "output_type": "display_data"
    },
    {
     "name": "stdout",
     "output_type": "stream",
     "text": [
      "- (Valid) bce:  0.5046,  acc: 82.023 %,pearson: 0.404, spearman: 0.357,elapse: 0.048 s\n",
      "update_rate: 0.001357\t0.004933\t\n",
      "[ Epoch 47 of 60 ]\n"
     ]
    },
    {
     "data": {
      "application/vnd.jupyter.widget-view+json": {
       "model_id": "9dc7f34bde2146b1b9c852dfab3d5727",
       "version_major": 2,
       "version_minor": 0
      },
      "text/plain": [
       " - (Training) :   0%|          | 0/1000 [00:00<?, ?it/s]"
      ]
     },
     "metadata": {},
     "output_type": "display_data"
    },
    {
     "name": "stdout",
     "output_type": "stream",
     "text": [
      "- (Train)   bce:  0.4862, mse:  0.2045,  acc: 82.195 %, pearson: 0.442, spearman: 0.390, elapse: 18.009 s\n"
     ]
    },
    {
     "data": {
      "application/vnd.jupyter.widget-view+json": {
       "model_id": "c5609c93c902406ab78d0736385063ba",
       "version_major": 2,
       "version_minor": 0
      },
      "text/plain": [
       "  - (Validation)   :   0%|          | 0/10 [00:00<?, ?it/s]"
      ]
     },
     "metadata": {},
     "output_type": "display_data"
    },
    {
     "name": "stdout",
     "output_type": "stream",
     "text": [
      "- (Valid) bce:  0.4983,  acc: 81.867 %,pearson: 0.400, spearman: 0.349,elapse: 0.052 s\n",
      "update_rate: 0.001354\t0.005818\t\n",
      "[ Epoch 48 of 60 ]\n"
     ]
    },
    {
     "data": {
      "application/vnd.jupyter.widget-view+json": {
       "model_id": "78eef11b70e24a94865c697d56d10e5e",
       "version_major": 2,
       "version_minor": 0
      },
      "text/plain": [
       " - (Training) :   0%|          | 0/1000 [00:00<?, ?it/s]"
      ]
     },
     "metadata": {},
     "output_type": "display_data"
    },
    {
     "name": "stdout",
     "output_type": "stream",
     "text": [
      "- (Train)   bce:  0.4855, mse:  0.2045,  acc: 82.206 %, pearson: 0.443, spearman: 0.391, elapse: 19.418 s\n"
     ]
    },
    {
     "data": {
      "application/vnd.jupyter.widget-view+json": {
       "model_id": "584c312375874661ac71cd33f9a91f68",
       "version_major": 2,
       "version_minor": 0
      },
      "text/plain": [
       "  - (Validation)   :   0%|          | 0/10 [00:00<?, ?it/s]"
      ]
     },
     "metadata": {},
     "output_type": "display_data"
    },
    {
     "name": "stdout",
     "output_type": "stream",
     "text": [
      "- (Valid) bce:  0.5014,  acc: 81.664 %,pearson: 0.406, spearman: 0.358,elapse: 0.049 s\n",
      "update_rate: 0.001300\t0.005529\t\n",
      "[ Epoch 49 of 60 ]\n"
     ]
    },
    {
     "data": {
      "application/vnd.jupyter.widget-view+json": {
       "model_id": "9194105d6a804f0b9d37e44ee7984cc5",
       "version_major": 2,
       "version_minor": 0
      },
      "text/plain": [
       " - (Training) :   0%|          | 0/1000 [00:00<?, ?it/s]"
      ]
     },
     "metadata": {},
     "output_type": "display_data"
    },
    {
     "name": "stdout",
     "output_type": "stream",
     "text": [
      "- (Train)   bce:  0.4860, mse:  0.2045,  acc: 82.239 %, pearson: 0.442, spearman: 0.391, elapse: 20.194 s\n"
     ]
    },
    {
     "data": {
      "application/vnd.jupyter.widget-view+json": {
       "model_id": "38fb39323629468f9b4f4ba293944c04",
       "version_major": 2,
       "version_minor": 0
      },
      "text/plain": [
       "  - (Validation)   :   0%|          | 0/10 [00:00<?, ?it/s]"
      ]
     },
     "metadata": {},
     "output_type": "display_data"
    },
    {
     "name": "stdout",
     "output_type": "stream",
     "text": [
      "- (Valid) bce:  0.5026,  acc: 82.047 %,pearson: 0.404, spearman: 0.345,elapse: 0.058 s\n",
      "update_rate: 0.001106\t0.004612\t\n",
      "[ Epoch 50 of 60 ]\n"
     ]
    },
    {
     "data": {
      "application/vnd.jupyter.widget-view+json": {
       "model_id": "40e4db625b69431983198622374b0e70",
       "version_major": 2,
       "version_minor": 0
      },
      "text/plain": [
       " - (Training) :   0%|          | 0/1000 [00:00<?, ?it/s]"
      ]
     },
     "metadata": {},
     "output_type": "display_data"
    },
    {
     "name": "stdout",
     "output_type": "stream",
     "text": [
      "- (Train)   bce:  0.4857, mse:  0.2045,  acc: 82.221 %, pearson: 0.442, spearman: 0.390, elapse: 20.926 s\n"
     ]
    },
    {
     "data": {
      "application/vnd.jupyter.widget-view+json": {
       "model_id": "a4c3bd70219a4b1e94ddbc246a777432",
       "version_major": 2,
       "version_minor": 0
      },
      "text/plain": [
       "  - (Validation)   :   0%|          | 0/10 [00:00<?, ?it/s]"
      ]
     },
     "metadata": {},
     "output_type": "display_data"
    },
    {
     "name": "stdout",
     "output_type": "stream",
     "text": [
      "- (Valid) bce:  0.5009,  acc: 81.781 %,pearson: 0.409, spearman: 0.354,elapse: 0.050 s\n",
      "update_rate: 0.001452\t0.005609\t\n",
      "[ Epoch 51 of 60 ]\n"
     ]
    },
    {
     "data": {
      "application/vnd.jupyter.widget-view+json": {
       "model_id": "70c8e842f49c422fba51ec2d7ed05cf1",
       "version_major": 2,
       "version_minor": 0
      },
      "text/plain": [
       " - (Training) :   0%|          | 0/1000 [00:00<?, ?it/s]"
      ]
     },
     "metadata": {},
     "output_type": "display_data"
    },
    {
     "name": "stdout",
     "output_type": "stream",
     "text": [
      "- (Train)   bce:  0.4856, mse:  0.2045,  acc: 82.266 %, pearson: 0.444, spearman: 0.391, elapse: 18.928 s\n"
     ]
    },
    {
     "data": {
      "application/vnd.jupyter.widget-view+json": {
       "model_id": "d7b7ca8eeadb4d819ceca1aea17bec88",
       "version_major": 2,
       "version_minor": 0
      },
      "text/plain": [
       "  - (Validation)   :   0%|          | 0/10 [00:00<?, ?it/s]"
      ]
     },
     "metadata": {},
     "output_type": "display_data"
    },
    {
     "name": "stdout",
     "output_type": "stream",
     "text": [
      "- (Valid) bce:  0.5078,  acc: 81.719 %,pearson: 0.387, spearman: 0.341,elapse: 0.051 s\n",
      "update_rate: 0.001879\t0.005707\t\n",
      "[ Epoch 52 of 60 ]\n"
     ]
    },
    {
     "data": {
      "application/vnd.jupyter.widget-view+json": {
       "model_id": "82f948d1fd9b49d691a9ceda5140c718",
       "version_major": 2,
       "version_minor": 0
      },
      "text/plain": [
       " - (Training) :   0%|          | 0/1000 [00:00<?, ?it/s]"
      ]
     },
     "metadata": {},
     "output_type": "display_data"
    },
    {
     "name": "stdout",
     "output_type": "stream",
     "text": [
      "- (Train)   bce:  0.4855, mse:  0.2045,  acc: 82.237 %, pearson: 0.443, spearman: 0.391, elapse: 20.248 s\n"
     ]
    },
    {
     "data": {
      "application/vnd.jupyter.widget-view+json": {
       "model_id": "cd738745032048749dccb329fa0f4ad4",
       "version_major": 2,
       "version_minor": 0
      },
      "text/plain": [
       "  - (Validation)   :   0%|          | 0/10 [00:00<?, ?it/s]"
      ]
     },
     "metadata": {},
     "output_type": "display_data"
    },
    {
     "name": "stdout",
     "output_type": "stream",
     "text": [
      "- (Valid) bce:  0.5043,  acc: 81.789 %,pearson: 0.392, spearman: 0.341,elapse: 0.050 s\n",
      "update_rate: 0.000982\t0.005110\t\n",
      "[ Epoch 53 of 60 ]\n"
     ]
    },
    {
     "data": {
      "application/vnd.jupyter.widget-view+json": {
       "model_id": "3b6e0b0cfbec4b95a0ddf1459410a3db",
       "version_major": 2,
       "version_minor": 0
      },
      "text/plain": [
       " - (Training) :   0%|          | 0/1000 [00:00<?, ?it/s]"
      ]
     },
     "metadata": {},
     "output_type": "display_data"
    },
    {
     "name": "stdout",
     "output_type": "stream",
     "text": [
      "- (Train)   bce:  0.4848, mse:  0.2045,  acc: 82.305 %, pearson: 0.445, spearman: 0.393, elapse: 20.287 s\n"
     ]
    },
    {
     "data": {
      "application/vnd.jupyter.widget-view+json": {
       "model_id": "1455c1336041488e943ac0995ac61e56",
       "version_major": 2,
       "version_minor": 0
      },
      "text/plain": [
       "  - (Validation)   :   0%|          | 0/10 [00:00<?, ?it/s]"
      ]
     },
     "metadata": {},
     "output_type": "display_data"
    },
    {
     "name": "stdout",
     "output_type": "stream",
     "text": [
      "- (Valid) bce:  0.5023,  acc: 81.648 %,pearson: 0.396, spearman: 0.337,elapse: 0.056 s\n",
      "update_rate: 0.001226\t0.004420\t\n",
      "[ Epoch 54 of 60 ]\n"
     ]
    },
    {
     "data": {
      "application/vnd.jupyter.widget-view+json": {
       "model_id": "1561340bbf944efba72e70fff03eb938",
       "version_major": 2,
       "version_minor": 0
      },
      "text/plain": [
       " - (Training) :   0%|          | 0/1000 [00:00<?, ?it/s]"
      ]
     },
     "metadata": {},
     "output_type": "display_data"
    },
    {
     "name": "stdout",
     "output_type": "stream",
     "text": [
      "- (Train)   bce:  0.4851, mse:  0.2045,  acc: 82.250 %, pearson: 0.444, spearman: 0.392, elapse: 18.214 s\n"
     ]
    },
    {
     "data": {
      "application/vnd.jupyter.widget-view+json": {
       "model_id": "cddbf5ab96904decbc0df3bb679c97d0",
       "version_major": 2,
       "version_minor": 0
      },
      "text/plain": [
       "  - (Validation)   :   0%|          | 0/10 [00:00<?, ?it/s]"
      ]
     },
     "metadata": {},
     "output_type": "display_data"
    },
    {
     "name": "stdout",
     "output_type": "stream",
     "text": [
      "- (Valid) bce:  0.5004,  acc: 81.977 %,pearson: 0.409, spearman: 0.354,elapse: 0.051 s\n",
      "update_rate: 0.001411\t0.004638\t\n",
      "[ Epoch 55 of 60 ]\n"
     ]
    },
    {
     "data": {
      "application/vnd.jupyter.widget-view+json": {
       "model_id": "18d7608d156b4e099d84db85dc5d2df4",
       "version_major": 2,
       "version_minor": 0
      },
      "text/plain": [
       " - (Training) :   0%|          | 0/1000 [00:00<?, ?it/s]"
      ]
     },
     "metadata": {},
     "output_type": "display_data"
    },
    {
     "name": "stdout",
     "output_type": "stream",
     "text": [
      "- (Train)   bce:  0.4845, mse:  0.2045,  acc: 82.306 %, pearson: 0.447, spearman: 0.394, elapse: 20.084 s\n"
     ]
    },
    {
     "data": {
      "application/vnd.jupyter.widget-view+json": {
       "model_id": "718a4820de6a4d4fb8d05c123188c58f",
       "version_major": 2,
       "version_minor": 0
      },
      "text/plain": [
       "  - (Validation)   :   0%|          | 0/10 [00:00<?, ?it/s]"
      ]
     },
     "metadata": {},
     "output_type": "display_data"
    },
    {
     "name": "stdout",
     "output_type": "stream",
     "text": [
      "- (Valid) bce:  0.4979,  acc: 81.648 %,pearson: 0.403, spearman: 0.353,elapse: 0.058 s\n",
      "update_rate: 0.001461\t0.005069\t\n",
      "[ Epoch 56 of 60 ]\n"
     ]
    },
    {
     "data": {
      "application/vnd.jupyter.widget-view+json": {
       "model_id": "c971b55801004009bdd864ec25b76567",
       "version_major": 2,
       "version_minor": 0
      },
      "text/plain": [
       " - (Training) :   0%|          | 0/1000 [00:00<?, ?it/s]"
      ]
     },
     "metadata": {},
     "output_type": "display_data"
    },
    {
     "name": "stdout",
     "output_type": "stream",
     "text": [
      "- (Train)   bce:  0.4840, mse:  0.2045,  acc: 82.308 %, pearson: 0.447, spearman: 0.394, elapse: 20.914 s\n"
     ]
    },
    {
     "data": {
      "application/vnd.jupyter.widget-view+json": {
       "model_id": "58830594f2844380aa874b18765ea6d0",
       "version_major": 2,
       "version_minor": 0
      },
      "text/plain": [
       "  - (Validation)   :   0%|          | 0/10 [00:00<?, ?it/s]"
      ]
     },
     "metadata": {},
     "output_type": "display_data"
    },
    {
     "name": "stdout",
     "output_type": "stream",
     "text": [
      "- (Valid) bce:  0.5018,  acc: 81.953 %,pearson: 0.396, spearman: 0.357,elapse: 0.053 s\n",
      "update_rate: 0.001489\t0.004620\t\n",
      "[ Epoch 57 of 60 ]\n"
     ]
    },
    {
     "data": {
      "application/vnd.jupyter.widget-view+json": {
       "model_id": "3b79e69932a94a90a9fc28413b2968e9",
       "version_major": 2,
       "version_minor": 0
      },
      "text/plain": [
       " - (Training) :   0%|          | 0/1000 [00:00<?, ?it/s]"
      ]
     },
     "metadata": {},
     "output_type": "display_data"
    },
    {
     "name": "stdout",
     "output_type": "stream",
     "text": [
      "- (Train)   bce:  0.4841, mse:  0.2045,  acc: 82.296 %, pearson: 0.447, spearman: 0.394, elapse: 19.851 s\n"
     ]
    },
    {
     "data": {
      "application/vnd.jupyter.widget-view+json": {
       "model_id": "0995cb8632de4c77bab3c8234ff29ab8",
       "version_major": 2,
       "version_minor": 0
      },
      "text/plain": [
       "  - (Validation)   :   0%|          | 0/10 [00:00<?, ?it/s]"
      ]
     },
     "metadata": {},
     "output_type": "display_data"
    },
    {
     "name": "stdout",
     "output_type": "stream",
     "text": [
      "- (Valid) bce:  0.5080,  acc: 81.906 %,pearson: 0.398, spearman: 0.351,elapse: 0.050 s\n",
      "update_rate: 0.001560\t0.004968\t\n",
      "[ Epoch 58 of 60 ]\n"
     ]
    },
    {
     "data": {
      "application/vnd.jupyter.widget-view+json": {
       "model_id": "124f0f7e1b864e9db76845bc37fbbe38",
       "version_major": 2,
       "version_minor": 0
      },
      "text/plain": [
       " - (Training) :   0%|          | 0/1000 [00:00<?, ?it/s]"
      ]
     },
     "metadata": {},
     "output_type": "display_data"
    },
    {
     "name": "stdout",
     "output_type": "stream",
     "text": [
      "- (Train)   bce:  0.4842, mse:  0.2045,  acc: 82.314 %, pearson: 0.447, spearman: 0.394, elapse: 19.690 s\n"
     ]
    },
    {
     "data": {
      "application/vnd.jupyter.widget-view+json": {
       "model_id": "c76c2364ce80489497c86afc70bed7a3",
       "version_major": 2,
       "version_minor": 0
      },
      "text/plain": [
       "  - (Validation)   :   0%|          | 0/10 [00:00<?, ?it/s]"
      ]
     },
     "metadata": {},
     "output_type": "display_data"
    },
    {
     "name": "stdout",
     "output_type": "stream",
     "text": [
      "- (Valid) bce:  0.5011,  acc: 81.367 %,pearson: 0.403, spearman: 0.354,elapse: 0.049 s\n",
      "update_rate: 0.001555\t0.004449\t\n",
      "[ Epoch 59 of 60 ]\n"
     ]
    },
    {
     "data": {
      "application/vnd.jupyter.widget-view+json": {
       "model_id": "b8c4f44a7a164d47b05acf29fc767e87",
       "version_major": 2,
       "version_minor": 0
      },
      "text/plain": [
       " - (Training) :   0%|          | 0/1000 [00:00<?, ?it/s]"
      ]
     },
     "metadata": {},
     "output_type": "display_data"
    },
    {
     "name": "stdout",
     "output_type": "stream",
     "text": [
      "- (Train)   bce:  0.4834, mse:  0.2045,  acc: 82.325 %, pearson: 0.448, spearman: 0.395, elapse: 18.633 s\n"
     ]
    },
    {
     "data": {
      "application/vnd.jupyter.widget-view+json": {
       "model_id": "44419b6696844553b9a2c22dee3308bd",
       "version_major": 2,
       "version_minor": 0
      },
      "text/plain": [
       "  - (Validation)   :   0%|          | 0/10 [00:00<?, ?it/s]"
      ]
     },
     "metadata": {},
     "output_type": "display_data"
    },
    {
     "name": "stdout",
     "output_type": "stream",
     "text": [
      "- (Valid) bce:  0.4955,  acc: 82.359 %,pearson: 0.413, spearman: 0.366,elapse: 0.063 s\n",
      "update_rate: 0.001390\t0.007122\t\n"
     ]
    },
    {
     "data": {
      "application/vnd.jupyter.widget-view+json": {
       "model_id": "bdef45b1a68e451d8a44ef4586bd49e9",
       "version_major": 2,
       "version_minor": 0
      },
      "text/plain": [
       "  - (Validation)   :   0%|          | 0/10 [00:00<?, ?it/s]"
      ]
     },
     "metadata": {},
     "output_type": "display_data"
    },
    {
     "name": "stdout",
     "output_type": "stream",
     "text": [
      "  - (Validation-hyper) bce:  0.5172,  acc: 81.109 %, auc: 0.371, aupr: 0.324,elapse: 3.179 s\n"
     ]
    }
   ],
   "source": [
    "higashi_model.train_for_embeddings()"
   ]
  },
  {
   "cell_type": "code",
   "execution_count": 68,
   "metadata": {},
   "outputs": [
    {
     "data": {
      "application/vnd.jupyter.widget-view+json": {
       "model_id": "892708faa506446e8b3be3ddb5b7d8ac",
       "version_major": 2,
       "version_minor": 0
      },
      "text/plain": [
       "  0%|          | 0/1 [00:00<?, ?it/s]"
      ]
     },
     "metadata": {},
     "output_type": "display_data"
    },
    {
     "data": {
      "application/vnd.jupyter.widget-view+json": {
       "model_id": "545c5d3d92f94e5196026dc53399b781",
       "version_major": 2,
       "version_minor": 0
      },
      "text/plain": [
       "  0%|          | 0/1 [00:00<?, ?it/s]"
      ]
     },
     "metadata": {},
     "output_type": "display_data"
    },
    {
     "name": "stdout",
     "output_type": "stream",
     "text": [
      "pass_pseudo_id False\n",
      "pass_pseudo_id False\n",
      "Second stage training\n",
      "[ Epoch 0 of 45 ]\n"
     ]
    },
    {
     "data": {
      "application/vnd.jupyter.widget-view+json": {
       "model_id": "",
       "version_major": 2,
       "version_minor": 0
      },
      "text/plain": [
       " - (Training) :   0%|          | 0/1000 [00:00<?, ?it/s]"
      ]
     },
     "metadata": {},
     "output_type": "display_data"
    },
    {
     "name": "stdout",
     "output_type": "stream",
     "text": [
      "- (Train)   bce:  0.5326, mse:  0.0000,  acc: 79.929 %, pearson: 0.266, spearman: 0.250, elapse: 46.187 s\n"
     ]
    },
    {
     "data": {
      "application/vnd.jupyter.widget-view+json": {
       "model_id": "",
       "version_major": 2,
       "version_minor": 0
      },
      "text/plain": [
       "  - (Validation)   :   0%|          | 0/10 [00:00<?, ?it/s]"
      ]
     },
     "metadata": {},
     "output_type": "display_data"
    },
    {
     "name": "stdout",
     "output_type": "stream",
     "text": [
      "- (Valid) bce:  0.5168,  acc: 80.250 %,pearson: 0.334, spearman: 0.308,elapse: 0.091 s\n",
      "\n",
      "[ Epoch 1 of 45 ]\n"
     ]
    },
    {
     "data": {
      "application/vnd.jupyter.widget-view+json": {
       "model_id": "",
       "version_major": 2,
       "version_minor": 0
      },
      "text/plain": [
       " - (Training) :   0%|          | 0/1000 [00:00<?, ?it/s]"
      ]
     },
     "metadata": {},
     "output_type": "display_data"
    },
    {
     "name": "stdout",
     "output_type": "stream",
     "text": [
      "- (Train)   bce:  0.5170, mse:  0.0000,  acc: 80.287 %, pearson: 0.332, spearman: 0.307, elapse: 37.165 s\n"
     ]
    },
    {
     "data": {
      "application/vnd.jupyter.widget-view+json": {
       "model_id": "",
       "version_major": 2,
       "version_minor": 0
      },
      "text/plain": [
       "  - (Validation)   :   0%|          | 0/10 [00:00<?, ?it/s]"
      ]
     },
     "metadata": {},
     "output_type": "display_data"
    },
    {
     "name": "stdout",
     "output_type": "stream",
     "text": [
      "- (Valid) bce:  0.5066,  acc: 80.539 %,pearson: 0.376, spearman: 0.348,elapse: 0.067 s\n",
      "\n",
      "[ Epoch 2 of 45 ]\n"
     ]
    },
    {
     "data": {
      "application/vnd.jupyter.widget-view+json": {
       "model_id": "",
       "version_major": 2,
       "version_minor": 0
      },
      "text/plain": [
       " - (Training) :   0%|          | 0/1000 [00:00<?, ?it/s]"
      ]
     },
     "metadata": {},
     "output_type": "display_data"
    },
    {
     "name": "stdout",
     "output_type": "stream",
     "text": [
      "- (Train)   bce:  0.5114, mse:  0.0000,  acc: 80.542 %, pearson: 0.355, spearman: 0.324, elapse: 45.379 s\n"
     ]
    },
    {
     "data": {
      "application/vnd.jupyter.widget-view+json": {
       "model_id": "",
       "version_major": 2,
       "version_minor": 0
      },
      "text/plain": [
       "  - (Validation)   :   0%|          | 0/10 [00:00<?, ?it/s]"
      ]
     },
     "metadata": {},
     "output_type": "display_data"
    },
    {
     "name": "stdout",
     "output_type": "stream",
     "text": [
      "- (Valid) bce:  0.4927,  acc: 81.664 %,pearson: 0.420, spearman: 0.375,elapse: 0.067 s\n",
      "\n",
      "[ Epoch 3 of 45 ]\n"
     ]
    },
    {
     "data": {
      "application/vnd.jupyter.widget-view+json": {
       "model_id": "",
       "version_major": 2,
       "version_minor": 0
      },
      "text/plain": [
       " - (Training) :   0%|          | 0/1000 [00:00<?, ?it/s]"
      ]
     },
     "metadata": {},
     "output_type": "display_data"
    },
    {
     "name": "stdout",
     "output_type": "stream",
     "text": [
      "- (Train)   bce:  0.5069, mse:  0.0000,  acc: 80.764 %, pearson: 0.370, spearman: 0.337, elapse: 42.482 s\n"
     ]
    },
    {
     "data": {
      "application/vnd.jupyter.widget-view+json": {
       "model_id": "",
       "version_major": 2,
       "version_minor": 0
      },
      "text/plain": [
       "  - (Validation)   :   0%|          | 0/10 [00:00<?, ?it/s]"
      ]
     },
     "metadata": {},
     "output_type": "display_data"
    },
    {
     "name": "stdout",
     "output_type": "stream",
     "text": [
      "- (Valid) bce:  0.4960,  acc: 81.570 %,pearson: 0.407, spearman: 0.368,elapse: 0.073 s\n",
      "\n",
      "[ Epoch 4 of 45 ]\n"
     ]
    },
    {
     "data": {
      "application/vnd.jupyter.widget-view+json": {
       "model_id": "",
       "version_major": 2,
       "version_minor": 0
      },
      "text/plain": [
       " - (Training) :   0%|          | 0/1000 [00:00<?, ?it/s]"
      ]
     },
     "metadata": {},
     "output_type": "display_data"
    },
    {
     "name": "stdout",
     "output_type": "stream",
     "text": [
      "- (Train)   bce:  0.5042, mse:  0.0000,  acc: 81.018 %, pearson: 0.383, spearman: 0.345, elapse: 39.897 s\n"
     ]
    },
    {
     "data": {
      "application/vnd.jupyter.widget-view+json": {
       "model_id": "",
       "version_major": 2,
       "version_minor": 0
      },
      "text/plain": [
       "  - (Validation)   :   0%|          | 0/10 [00:00<?, ?it/s]"
      ]
     },
     "metadata": {},
     "output_type": "display_data"
    },
    {
     "name": "stdout",
     "output_type": "stream",
     "text": [
      "- (Valid) bce:  0.4863,  acc: 81.641 %,pearson: 0.426, spearman: 0.382,elapse: 0.067 s\n",
      "\n",
      "[ Epoch 5 of 45 ]\n"
     ]
    },
    {
     "data": {
      "application/vnd.jupyter.widget-view+json": {
       "model_id": "",
       "version_major": 2,
       "version_minor": 0
      },
      "text/plain": [
       " - (Training) :   0%|          | 0/1000 [00:00<?, ?it/s]"
      ]
     },
     "metadata": {},
     "output_type": "display_data"
    },
    {
     "name": "stdout",
     "output_type": "stream",
     "text": [
      "- (Train)   bce:  0.5003, mse:  0.0000,  acc: 81.176 %, pearson: 0.395, spearman: 0.355, elapse: 42.248 s\n"
     ]
    },
    {
     "data": {
      "application/vnd.jupyter.widget-view+json": {
       "model_id": "",
       "version_major": 2,
       "version_minor": 0
      },
      "text/plain": [
       "  - (Validation)   :   0%|          | 0/10 [00:00<?, ?it/s]"
      ]
     },
     "metadata": {},
     "output_type": "display_data"
    },
    {
     "name": "stdout",
     "output_type": "stream",
     "text": [
      "- (Valid) bce:  0.4821,  acc: 81.803 %,pearson: 0.439, spearman: 0.399,elapse: 0.062 s\n",
      "\n",
      "[ Epoch 6 of 45 ]\n"
     ]
    },
    {
     "data": {
      "application/vnd.jupyter.widget-view+json": {
       "model_id": "",
       "version_major": 2,
       "version_minor": 0
      },
      "text/plain": [
       " - (Training) :   0%|          | 0/1000 [00:00<?, ?it/s]"
      ]
     },
     "metadata": {},
     "output_type": "display_data"
    },
    {
     "name": "stdout",
     "output_type": "stream",
     "text": [
      "- (Train)   bce:  0.4968, mse:  0.0000,  acc: 81.388 %, pearson: 0.408, spearman: 0.365, elapse: 41.661 s\n"
     ]
    },
    {
     "data": {
      "application/vnd.jupyter.widget-view+json": {
       "model_id": "",
       "version_major": 2,
       "version_minor": 0
      },
      "text/plain": [
       "  - (Validation)   :   0%|          | 0/10 [00:00<?, ?it/s]"
      ]
     },
     "metadata": {},
     "output_type": "display_data"
    },
    {
     "name": "stdout",
     "output_type": "stream",
     "text": [
      "- (Valid) bce:  0.4804,  acc: 82.100 %,pearson: 0.443, spearman: 0.402,elapse: 0.075 s\n",
      "\n",
      "[ Epoch 7 of 45 ]\n"
     ]
    },
    {
     "data": {
      "application/vnd.jupyter.widget-view+json": {
       "model_id": "",
       "version_major": 2,
       "version_minor": 0
      },
      "text/plain": [
       " - (Training) :   0%|          | 0/1000 [00:00<?, ?it/s]"
      ]
     },
     "metadata": {},
     "output_type": "display_data"
    },
    {
     "name": "stdout",
     "output_type": "stream",
     "text": [
      "- (Train)   bce:  0.4935, mse:  0.0000,  acc: 81.586 %, pearson: 0.419, spearman: 0.374, elapse: 39.987 s\n"
     ]
    },
    {
     "data": {
      "application/vnd.jupyter.widget-view+json": {
       "model_id": "",
       "version_major": 2,
       "version_minor": 0
      },
      "text/plain": [
       "  - (Validation)   :   0%|          | 0/10 [00:00<?, ?it/s]"
      ]
     },
     "metadata": {},
     "output_type": "display_data"
    },
    {
     "name": "stdout",
     "output_type": "stream",
     "text": [
      "- (Valid) bce:  0.4719,  acc: 82.594 %,pearson: 0.465, spearman: 0.420,elapse: 0.074 s\n",
      "\n",
      "[ Epoch 8 of 45 ]\n"
     ]
    },
    {
     "data": {
      "application/vnd.jupyter.widget-view+json": {
       "model_id": "",
       "version_major": 2,
       "version_minor": 0
      },
      "text/plain": [
       " - (Training) :   0%|          | 0/1000 [00:00<?, ?it/s]"
      ]
     },
     "metadata": {},
     "output_type": "display_data"
    },
    {
     "name": "stdout",
     "output_type": "stream",
     "text": [
      "- (Train)   bce:  0.4906, mse:  0.0000,  acc: 81.769 %, pearson: 0.428, spearman: 0.381, elapse: 37.950 s\n"
     ]
    },
    {
     "data": {
      "application/vnd.jupyter.widget-view+json": {
       "model_id": "",
       "version_major": 2,
       "version_minor": 0
      },
      "text/plain": [
       "  - (Validation)   :   0%|          | 0/10 [00:00<?, ?it/s]"
      ]
     },
     "metadata": {},
     "output_type": "display_data"
    },
    {
     "name": "stdout",
     "output_type": "stream",
     "text": [
      "- (Valid) bce:  0.4675,  acc: 83.125 %,pearson: 0.485, spearman: 0.440,elapse: 0.074 s\n",
      "\n",
      "[ Epoch 9 of 45 ]\n"
     ]
    },
    {
     "data": {
      "application/vnd.jupyter.widget-view+json": {
       "model_id": "",
       "version_major": 2,
       "version_minor": 0
      },
      "text/plain": [
       " - (Training) :   0%|          | 0/1000 [00:00<?, ?it/s]"
      ]
     },
     "metadata": {},
     "output_type": "display_data"
    },
    {
     "name": "stdout",
     "output_type": "stream",
     "text": [
      "- (Train)   bce:  0.4883, mse:  0.0000,  acc: 81.945 %, pearson: 0.436, spearman: 0.387, elapse: 40.606 s\n"
     ]
    },
    {
     "data": {
      "application/vnd.jupyter.widget-view+json": {
       "model_id": "",
       "version_major": 2,
       "version_minor": 0
      },
      "text/plain": [
       "  - (Validation)   :   0%|          | 0/10 [00:00<?, ?it/s]"
      ]
     },
     "metadata": {},
     "output_type": "display_data"
    },
    {
     "name": "stdout",
     "output_type": "stream",
     "text": [
      "- (Valid) bce:  0.4705,  acc: 82.969 %,pearson: 0.487, spearman: 0.435,elapse: 0.068 s\n",
      "\n",
      "[ Epoch 10 of 45 ]\n"
     ]
    },
    {
     "data": {
      "application/vnd.jupyter.widget-view+json": {
       "model_id": "",
       "version_major": 2,
       "version_minor": 0
      },
      "text/plain": [
       " - (Training) :   0%|          | 0/1000 [00:00<?, ?it/s]"
      ]
     },
     "metadata": {},
     "output_type": "display_data"
    },
    {
     "name": "stdout",
     "output_type": "stream",
     "text": [
      "- (Train)   bce:  0.4857, mse:  0.0000,  acc: 82.112 %, pearson: 0.444, spearman: 0.393, elapse: 36.678 s\n"
     ]
    },
    {
     "data": {
      "application/vnd.jupyter.widget-view+json": {
       "model_id": "",
       "version_major": 2,
       "version_minor": 0
      },
      "text/plain": [
       "  - (Validation)   :   0%|          | 0/10 [00:00<?, ?it/s]"
      ]
     },
     "metadata": {},
     "output_type": "display_data"
    },
    {
     "name": "stdout",
     "output_type": "stream",
     "text": [
      "- (Valid) bce:  0.4627,  acc: 83.320 %,pearson: 0.514, spearman: 0.455,elapse: 0.067 s\n",
      "\n",
      "[ Epoch 11 of 45 ]\n"
     ]
    },
    {
     "data": {
      "application/vnd.jupyter.widget-view+json": {
       "model_id": "",
       "version_major": 2,
       "version_minor": 0
      },
      "text/plain": [
       " - (Training) :   0%|          | 0/1000 [00:00<?, ?it/s]"
      ]
     },
     "metadata": {},
     "output_type": "display_data"
    },
    {
     "name": "stdout",
     "output_type": "stream",
     "text": [
      "- (Train)   bce:  0.4834, mse:  0.0000,  acc: 82.253 %, pearson: 0.451, spearman: 0.399, elapse: 37.674 s\n"
     ]
    },
    {
     "data": {
      "application/vnd.jupyter.widget-view+json": {
       "model_id": "",
       "version_major": 2,
       "version_minor": 0
      },
      "text/plain": [
       "  - (Validation)   :   0%|          | 0/10 [00:00<?, ?it/s]"
      ]
     },
     "metadata": {},
     "output_type": "display_data"
    },
    {
     "name": "stdout",
     "output_type": "stream",
     "text": [
      "- (Valid) bce:  0.4641,  acc: 83.038 %,pearson: 0.491, spearman: 0.444,elapse: 0.070 s\n",
      "\n",
      "[ Epoch 12 of 45 ]\n"
     ]
    },
    {
     "data": {
      "application/vnd.jupyter.widget-view+json": {
       "model_id": "49e83787ec4b413b85bfb943d03578b4",
       "version_major": 2,
       "version_minor": 0
      },
      "text/plain": [
       " - (Training) :   0%|          | 0/1000 [00:00<?, ?it/s]"
      ]
     },
     "metadata": {},
     "output_type": "display_data"
    },
    {
     "name": "stdout",
     "output_type": "stream",
     "text": [
      "- (Train)   bce:  0.4811, mse:  0.0000,  acc: 82.382 %, pearson: 0.458, spearman: 0.404, elapse: 39.569 s\n"
     ]
    },
    {
     "data": {
      "application/vnd.jupyter.widget-view+json": {
       "model_id": "5d6bf05c31894cebaed6082e4342035f",
       "version_major": 2,
       "version_minor": 0
      },
      "text/plain": [
       "  - (Validation)   :   0%|          | 0/10 [00:00<?, ?it/s]"
      ]
     },
     "metadata": {},
     "output_type": "display_data"
    },
    {
     "name": "stdout",
     "output_type": "stream",
     "text": [
      "- (Valid) bce:  0.4596,  acc: 83.477 %,pearson: 0.518, spearman: 0.458,elapse: 0.066 s\n",
      "\n",
      "[ Epoch 13 of 45 ]\n"
     ]
    },
    {
     "data": {
      "application/vnd.jupyter.widget-view+json": {
       "model_id": "7a64c5f149754d2282ab8d9a9961e4e3",
       "version_major": 2,
       "version_minor": 0
      },
      "text/plain": [
       " - (Training) :   0%|          | 0/1000 [00:00<?, ?it/s]"
      ]
     },
     "metadata": {},
     "output_type": "display_data"
    },
    {
     "name": "stdout",
     "output_type": "stream",
     "text": [
      "- (Train)   bce:  0.4789, mse:  0.0000,  acc: 82.555 %, pearson: 0.465, spearman: 0.410, elapse: 38.201 s\n"
     ]
    },
    {
     "data": {
      "application/vnd.jupyter.widget-view+json": {
       "model_id": "fcd6eda15a5646159327206ed842ceda",
       "version_major": 2,
       "version_minor": 0
      },
      "text/plain": [
       "  - (Validation)   :   0%|          | 0/10 [00:00<?, ?it/s]"
      ]
     },
     "metadata": {},
     "output_type": "display_data"
    },
    {
     "name": "stdout",
     "output_type": "stream",
     "text": [
      "- (Valid) bce:  0.4550,  acc: 83.734 %,pearson: 0.521, spearman: 0.462,elapse: 0.066 s\n",
      "\n",
      "[ Epoch 14 of 45 ]\n"
     ]
    },
    {
     "data": {
      "application/vnd.jupyter.widget-view+json": {
       "model_id": "932fc3055b604f9abaeb8b10aa20e491",
       "version_major": 2,
       "version_minor": 0
      },
      "text/plain": [
       " - (Training) :   0%|          | 0/1000 [00:00<?, ?it/s]"
      ]
     },
     "metadata": {},
     "output_type": "display_data"
    },
    {
     "name": "stdout",
     "output_type": "stream",
     "text": [
      "- (Train)   bce:  0.4770, mse:  0.0000,  acc: 82.703 %, pearson: 0.471, spearman: 0.414, elapse: 40.640 s\n"
     ]
    },
    {
     "data": {
      "application/vnd.jupyter.widget-view+json": {
       "model_id": "766befddb31a4f9faad836cb40d0e733",
       "version_major": 2,
       "version_minor": 0
      },
      "text/plain": [
       "  - (Validation)   :   0%|          | 0/10 [00:00<?, ?it/s]"
      ]
     },
     "metadata": {},
     "output_type": "display_data"
    },
    {
     "name": "stdout",
     "output_type": "stream",
     "text": [
      "- (Valid) bce:  0.4578,  acc: 83.484 %,pearson: 0.525, spearman: 0.463,elapse: 0.071 s\n",
      "\n",
      "[ Epoch 15 of 45 ]\n"
     ]
    },
    {
     "data": {
      "application/vnd.jupyter.widget-view+json": {
       "model_id": "84ef9a187b34450fb9bedcd34bfa9782",
       "version_major": 2,
       "version_minor": 0
      },
      "text/plain": [
       " - (Training) :   0%|          | 0/1000 [00:00<?, ?it/s]"
      ]
     },
     "metadata": {},
     "output_type": "display_data"
    },
    {
     "name": "stdout",
     "output_type": "stream",
     "text": [
      "- (Train)   bce:  0.4747, mse:  0.0000,  acc: 82.836 %, pearson: 0.478, spearman: 0.419, elapse: 40.572 s\n"
     ]
    },
    {
     "data": {
      "application/vnd.jupyter.widget-view+json": {
       "model_id": "b91884c7abf4464689fa4dac99e0aef4",
       "version_major": 2,
       "version_minor": 0
      },
      "text/plain": [
       "  - (Validation)   :   0%|          | 0/10 [00:00<?, ?it/s]"
      ]
     },
     "metadata": {},
     "output_type": "display_data"
    },
    {
     "name": "stdout",
     "output_type": "stream",
     "text": [
      "- (Valid) bce:  0.4476,  acc: 84.094 %,pearson: 0.541, spearman: 0.474,elapse: 0.086 s\n",
      "\n",
      "[ Epoch 16 of 45 ]\n"
     ]
    },
    {
     "data": {
      "application/vnd.jupyter.widget-view+json": {
       "model_id": "1d6b05b8784f4df1a5f5a269abb0bca7",
       "version_major": 2,
       "version_minor": 0
      },
      "text/plain": [
       " - (Training) :   0%|          | 0/1000 [00:00<?, ?it/s]"
      ]
     },
     "metadata": {},
     "output_type": "display_data"
    },
    {
     "name": "stdout",
     "output_type": "stream",
     "text": [
      "- (Train)   bce:  0.4728, mse:  0.0000,  acc: 82.927 %, pearson: 0.482, spearman: 0.423, elapse: 38.141 s\n"
     ]
    },
    {
     "data": {
      "application/vnd.jupyter.widget-view+json": {
       "model_id": "3d0ee4aac0ea4e2b8bed59a147eb9d8d",
       "version_major": 2,
       "version_minor": 0
      },
      "text/plain": [
       "  - (Validation)   :   0%|          | 0/10 [00:00<?, ?it/s]"
      ]
     },
     "metadata": {},
     "output_type": "display_data"
    },
    {
     "name": "stdout",
     "output_type": "stream",
     "text": [
      "- (Valid) bce:  0.4427,  acc: 84.336 %,pearson: 0.556, spearman: 0.491,elapse: 0.073 s\n",
      "\n",
      "[ Epoch 17 of 45 ]\n"
     ]
    },
    {
     "data": {
      "application/vnd.jupyter.widget-view+json": {
       "model_id": "f9c9ba416b02419da2c8485f0ab91e8f",
       "version_major": 2,
       "version_minor": 0
      },
      "text/plain": [
       " - (Training) :   0%|          | 0/1000 [00:00<?, ?it/s]"
      ]
     },
     "metadata": {},
     "output_type": "display_data"
    },
    {
     "name": "stdout",
     "output_type": "stream",
     "text": [
      "- (Train)   bce:  0.4715, mse:  0.0000,  acc: 83.052 %, pearson: 0.487, spearman: 0.426, elapse: 39.171 s\n"
     ]
    },
    {
     "data": {
      "application/vnd.jupyter.widget-view+json": {
       "model_id": "b82f2d904cd74b7481619b7c81090bbf",
       "version_major": 2,
       "version_minor": 0
      },
      "text/plain": [
       "  - (Validation)   :   0%|          | 0/10 [00:00<?, ?it/s]"
      ]
     },
     "metadata": {},
     "output_type": "display_data"
    },
    {
     "name": "stdout",
     "output_type": "stream",
     "text": [
      "- (Valid) bce:  0.4460,  acc: 84.836 %,pearson: 0.561, spearman: 0.488,elapse: 0.088 s\n",
      "\n",
      "[ Epoch 18 of 45 ]\n"
     ]
    },
    {
     "data": {
      "application/vnd.jupyter.widget-view+json": {
       "model_id": "3d4a7f2bdd784429a4c2a27e55851bea",
       "version_major": 2,
       "version_minor": 0
      },
      "text/plain": [
       " - (Training) :   0%|          | 0/1000 [00:00<?, ?it/s]"
      ]
     },
     "metadata": {},
     "output_type": "display_data"
    },
    {
     "name": "stdout",
     "output_type": "stream",
     "text": [
      "- (Train)   bce:  0.4686, mse:  0.0000,  acc: 83.227 %, pearson: 0.495, spearman: 0.433, elapse: 34.809 s\n"
     ]
    },
    {
     "data": {
      "application/vnd.jupyter.widget-view+json": {
       "model_id": "3ca7802e77d24ad180b4143f4836f78e",
       "version_major": 2,
       "version_minor": 0
      },
      "text/plain": [
       "  - (Validation)   :   0%|          | 0/10 [00:00<?, ?it/s]"
      ]
     },
     "metadata": {},
     "output_type": "display_data"
    },
    {
     "name": "stdout",
     "output_type": "stream",
     "text": [
      "- (Valid) bce:  0.4443,  acc: 84.500 %,pearson: 0.561, spearman: 0.489,elapse: 0.083 s\n",
      "\n",
      "[ Epoch 19 of 45 ]\n"
     ]
    },
    {
     "data": {
      "application/vnd.jupyter.widget-view+json": {
       "model_id": "75c66376f841464fb22905b0351cd88f",
       "version_major": 2,
       "version_minor": 0
      },
      "text/plain": [
       " - (Training) :   0%|          | 0/1000 [00:00<?, ?it/s]"
      ]
     },
     "metadata": {},
     "output_type": "display_data"
    },
    {
     "name": "stdout",
     "output_type": "stream",
     "text": [
      "- (Train)   bce:  0.4670, mse:  0.0000,  acc: 83.349 %, pearson: 0.500, spearman: 0.436, elapse: 37.925 s\n"
     ]
    },
    {
     "data": {
      "application/vnd.jupyter.widget-view+json": {
       "model_id": "23544d00c5db420495952138683dc4b9",
       "version_major": 2,
       "version_minor": 0
      },
      "text/plain": [
       "  - (Validation)   :   0%|          | 0/10 [00:00<?, ?it/s]"
      ]
     },
     "metadata": {},
     "output_type": "display_data"
    },
    {
     "name": "stdout",
     "output_type": "stream",
     "text": [
      "- (Valid) bce:  0.4362,  acc: 85.164 %,pearson: 0.575, spearman: 0.500,elapse: 0.071 s\n",
      "\n",
      "[ Epoch 20 of 45 ]\n"
     ]
    },
    {
     "data": {
      "application/vnd.jupyter.widget-view+json": {
       "model_id": "59b43e300b0542e6a341df83e2a78269",
       "version_major": 2,
       "version_minor": 0
      },
      "text/plain": [
       " - (Training) :   0%|          | 0/1000 [00:00<?, ?it/s]"
      ]
     },
     "metadata": {},
     "output_type": "display_data"
    },
    {
     "name": "stdout",
     "output_type": "stream",
     "text": [
      "- (Train)   bce:  0.4653, mse:  0.0000,  acc: 83.490 %, pearson: 0.505, spearman: 0.440, elapse: 36.996 s\n"
     ]
    },
    {
     "data": {
      "application/vnd.jupyter.widget-view+json": {
       "model_id": "869a5c988bbd458b9f94802581d26f75",
       "version_major": 2,
       "version_minor": 0
      },
      "text/plain": [
       "  - (Validation)   :   0%|          | 0/10 [00:00<?, ?it/s]"
      ]
     },
     "metadata": {},
     "output_type": "display_data"
    },
    {
     "name": "stdout",
     "output_type": "stream",
     "text": [
      "- (Valid) bce:  0.4334,  acc: 85.422 %,pearson: 0.589, spearman: 0.507,elapse: 0.064 s\n",
      "\n",
      "[ Epoch 21 of 45 ]\n"
     ]
    },
    {
     "data": {
      "application/vnd.jupyter.widget-view+json": {
       "model_id": "1b3931cc44fd4fec9dccbc76aeb0378a",
       "version_major": 2,
       "version_minor": 0
      },
      "text/plain": [
       " - (Training) :   0%|          | 0/1000 [00:00<?, ?it/s]"
      ]
     },
     "metadata": {},
     "output_type": "display_data"
    },
    {
     "name": "stdout",
     "output_type": "stream",
     "text": [
      "- (Train)   bce:  0.4634, mse:  0.0000,  acc: 83.583 %, pearson: 0.510, spearman: 0.443, elapse: 40.164 s\n"
     ]
    },
    {
     "data": {
      "application/vnd.jupyter.widget-view+json": {
       "model_id": "6364722a10df46068704c9f1ad5d358c",
       "version_major": 2,
       "version_minor": 0
      },
      "text/plain": [
       "  - (Validation)   :   0%|          | 0/10 [00:00<?, ?it/s]"
      ]
     },
     "metadata": {},
     "output_type": "display_data"
    },
    {
     "name": "stdout",
     "output_type": "stream",
     "text": [
      "- (Valid) bce:  0.4348,  acc: 85.047 %,pearson: 0.574, spearman: 0.498,elapse: 0.069 s\n",
      "\n",
      "[ Epoch 22 of 45 ]\n"
     ]
    },
    {
     "data": {
      "application/vnd.jupyter.widget-view+json": {
       "model_id": "022de05d68974a0294f52c15d121bb83",
       "version_major": 2,
       "version_minor": 0
      },
      "text/plain": [
       " - (Training) :   0%|          | 0/1000 [00:00<?, ?it/s]"
      ]
     },
     "metadata": {},
     "output_type": "display_data"
    },
    {
     "name": "stdout",
     "output_type": "stream",
     "text": [
      "- (Train)   bce:  0.4622, mse:  0.0000,  acc: 83.687 %, pearson: 0.514, spearman: 0.446, elapse: 39.785 s\n"
     ]
    },
    {
     "data": {
      "application/vnd.jupyter.widget-view+json": {
       "model_id": "041cb23065064d7298e5ce4e5cf37322",
       "version_major": 2,
       "version_minor": 0
      },
      "text/plain": [
       "  - (Validation)   :   0%|          | 0/10 [00:00<?, ?it/s]"
      ]
     },
     "metadata": {},
     "output_type": "display_data"
    },
    {
     "name": "stdout",
     "output_type": "stream",
     "text": [
      "- (Valid) bce:  0.4311,  acc: 85.523 %,pearson: 0.592, spearman: 0.511,elapse: 0.072 s\n",
      "\n",
      "[ Epoch 23 of 45 ]\n"
     ]
    },
    {
     "data": {
      "application/vnd.jupyter.widget-view+json": {
       "model_id": "d6099fec4b46492c90cfde52e0ca40c3",
       "version_major": 2,
       "version_minor": 0
      },
      "text/plain": [
       " - (Training) :   0%|          | 0/1000 [00:00<?, ?it/s]"
      ]
     },
     "metadata": {},
     "output_type": "display_data"
    },
    {
     "name": "stdout",
     "output_type": "stream",
     "text": [
      "- (Train)   bce:  0.4601, mse:  0.0000,  acc: 83.801 %, pearson: 0.519, spearman: 0.450, elapse: 39.970 s\n"
     ]
    },
    {
     "data": {
      "application/vnd.jupyter.widget-view+json": {
       "model_id": "03cc4cb1021a47b9a50b5d33e066d803",
       "version_major": 2,
       "version_minor": 0
      },
      "text/plain": [
       "  - (Validation)   :   0%|          | 0/10 [00:00<?, ?it/s]"
      ]
     },
     "metadata": {},
     "output_type": "display_data"
    },
    {
     "name": "stdout",
     "output_type": "stream",
     "text": [
      "- (Valid) bce:  0.4288,  acc: 85.766 %,pearson: 0.593, spearman: 0.518,elapse: 0.080 s\n",
      "\n",
      "[ Epoch 24 of 45 ]\n"
     ]
    },
    {
     "data": {
      "application/vnd.jupyter.widget-view+json": {
       "model_id": "ae06311e7d814da9a5ae6a141c8092be",
       "version_major": 2,
       "version_minor": 0
      },
      "text/plain": [
       " - (Training) :   0%|          | 0/1000 [00:00<?, ?it/s]"
      ]
     },
     "metadata": {},
     "output_type": "display_data"
    },
    {
     "name": "stdout",
     "output_type": "stream",
     "text": [
      "- (Train)   bce:  0.4588, mse:  0.0000,  acc: 83.921 %, pearson: 0.524, spearman: 0.453, elapse: 38.864 s\n"
     ]
    },
    {
     "data": {
      "application/vnd.jupyter.widget-view+json": {
       "model_id": "ea990aaf2ccf475690babf65dd91b746",
       "version_major": 2,
       "version_minor": 0
      },
      "text/plain": [
       "  - (Validation)   :   0%|          | 0/10 [00:00<?, ?it/s]"
      ]
     },
     "metadata": {},
     "output_type": "display_data"
    },
    {
     "name": "stdout",
     "output_type": "stream",
     "text": [
      "- (Valid) bce:  0.4262,  acc: 86.070 %,pearson: 0.603, spearman: 0.525,elapse: 0.075 s\n",
      "\n",
      "[ Epoch 25 of 45 ]\n"
     ]
    },
    {
     "data": {
      "application/vnd.jupyter.widget-view+json": {
       "model_id": "5761ddfe46754200a6545a699e854ac7",
       "version_major": 2,
       "version_minor": 0
      },
      "text/plain": [
       " - (Training) :   0%|          | 0/1000 [00:00<?, ?it/s]"
      ]
     },
     "metadata": {},
     "output_type": "display_data"
    },
    {
     "name": "stdout",
     "output_type": "stream",
     "text": [
      "- (Train)   bce:  0.4573, mse:  0.0000,  acc: 83.995 %, pearson: 0.526, spearman: 0.456, elapse: 35.839 s\n"
     ]
    },
    {
     "data": {
      "application/vnd.jupyter.widget-view+json": {
       "model_id": "13795ad245dd404cb6630489ffb253b6",
       "version_major": 2,
       "version_minor": 0
      },
      "text/plain": [
       "  - (Validation)   :   0%|          | 0/10 [00:00<?, ?it/s]"
      ]
     },
     "metadata": {},
     "output_type": "display_data"
    },
    {
     "name": "stdout",
     "output_type": "stream",
     "text": [
      "- (Valid) bce:  0.4230,  acc: 85.336 %,pearson: 0.599, spearman: 0.522,elapse: 0.074 s\n",
      "\n",
      "[ Epoch 26 of 45 ]\n"
     ]
    },
    {
     "data": {
      "application/vnd.jupyter.widget-view+json": {
       "model_id": "a0c4415fa4d445619b4713c55cae0c0e",
       "version_major": 2,
       "version_minor": 0
      },
      "text/plain": [
       " - (Training) :   0%|          | 0/1000 [00:00<?, ?it/s]"
      ]
     },
     "metadata": {},
     "output_type": "display_data"
    },
    {
     "name": "stdout",
     "output_type": "stream",
     "text": [
      "- (Train)   bce:  0.4564, mse:  0.0000,  acc: 84.083 %, pearson: 0.530, spearman: 0.458, elapse: 38.110 s\n"
     ]
    },
    {
     "data": {
      "application/vnd.jupyter.widget-view+json": {
       "model_id": "163752fe0cf74d778e78ae22a0752a09",
       "version_major": 2,
       "version_minor": 0
      },
      "text/plain": [
       "  - (Validation)   :   0%|          | 0/10 [00:00<?, ?it/s]"
      ]
     },
     "metadata": {},
     "output_type": "display_data"
    },
    {
     "name": "stdout",
     "output_type": "stream",
     "text": [
      "- (Valid) bce:  0.4249,  acc: 85.945 %,pearson: 0.607, spearman: 0.522,elapse: 0.074 s\n",
      "no improve: 1\t\n",
      "[ Epoch 27 of 45 ]\n"
     ]
    },
    {
     "data": {
      "application/vnd.jupyter.widget-view+json": {
       "model_id": "2a3b1cd753b846b2aa535ab59425d824",
       "version_major": 2,
       "version_minor": 0
      },
      "text/plain": [
       " - (Training) :   0%|          | 0/1000 [00:00<?, ?it/s]"
      ]
     },
     "metadata": {},
     "output_type": "display_data"
    },
    {
     "name": "stdout",
     "output_type": "stream",
     "text": [
      "- (Train)   bce:  0.4550, mse:  0.0000,  acc: 84.152 %, pearson: 0.532, spearman: 0.460, elapse: 39.380 s\n"
     ]
    },
    {
     "data": {
      "application/vnd.jupyter.widget-view+json": {
       "model_id": "c6b0fbccf813432e90704dd00ffc6b83",
       "version_major": 2,
       "version_minor": 0
      },
      "text/plain": [
       "  - (Validation)   :   0%|          | 0/10 [00:00<?, ?it/s]"
      ]
     },
     "metadata": {},
     "output_type": "display_data"
    },
    {
     "name": "stdout",
     "output_type": "stream",
     "text": [
      "- (Valid) bce:  0.4219,  acc: 85.859 %,pearson: 0.609, spearman: 0.531,elapse: 0.067 s\n",
      "\n",
      "[ Epoch 28 of 45 ]\n"
     ]
    },
    {
     "data": {
      "application/vnd.jupyter.widget-view+json": {
       "model_id": "ff9b3682bc5247ee8d86857354214caa",
       "version_major": 2,
       "version_minor": 0
      },
      "text/plain": [
       " - (Training) :   0%|          | 0/1000 [00:00<?, ?it/s]"
      ]
     },
     "metadata": {},
     "output_type": "display_data"
    },
    {
     "name": "stdout",
     "output_type": "stream",
     "text": [
      "- (Train)   bce:  0.4540, mse:  0.0000,  acc: 84.199 %, pearson: 0.536, spearman: 0.463, elapse: 38.908 s\n"
     ]
    },
    {
     "data": {
      "application/vnd.jupyter.widget-view+json": {
       "model_id": "72eacb25aa6b4545ae2e7695deb9e234",
       "version_major": 2,
       "version_minor": 0
      },
      "text/plain": [
       "  - (Validation)   :   0%|          | 0/10 [00:00<?, ?it/s]"
      ]
     },
     "metadata": {},
     "output_type": "display_data"
    },
    {
     "name": "stdout",
     "output_type": "stream",
     "text": [
      "- (Valid) bce:  0.4195,  acc: 85.788 %,pearson: 0.622, spearman: 0.539,elapse: 0.068 s\n",
      "\n",
      "[ Epoch 29 of 45 ]\n"
     ]
    },
    {
     "data": {
      "application/vnd.jupyter.widget-view+json": {
       "model_id": "3d713406e1994063b4c626f262630177",
       "version_major": 2,
       "version_minor": 0
      },
      "text/plain": [
       " - (Training) :   0%|          | 0/1000 [00:00<?, ?it/s]"
      ]
     },
     "metadata": {},
     "output_type": "display_data"
    },
    {
     "name": "stdout",
     "output_type": "stream",
     "text": [
      "- (Train)   bce:  0.4533, mse:  0.0000,  acc: 84.299 %, pearson: 0.537, spearman: 0.464, elapse: 38.070 s\n"
     ]
    },
    {
     "data": {
      "application/vnd.jupyter.widget-view+json": {
       "model_id": "ca9c6a8257034c919efee9be85a3220d",
       "version_major": 2,
       "version_minor": 0
      },
      "text/plain": [
       "  - (Validation)   :   0%|          | 0/10 [00:00<?, ?it/s]"
      ]
     },
     "metadata": {},
     "output_type": "display_data"
    },
    {
     "name": "stdout",
     "output_type": "stream",
     "text": [
      "- (Valid) bce:  0.4121,  acc: 86.781 %,pearson: 0.634, spearman: 0.552,elapse: 0.073 s\n",
      "no improve: 1\t\n",
      "[ Epoch 30 of 45 ]\n"
     ]
    },
    {
     "data": {
      "application/vnd.jupyter.widget-view+json": {
       "model_id": "3c7a3aa1d41f44a58f8153cb2404565e",
       "version_major": 2,
       "version_minor": 0
      },
      "text/plain": [
       " - (Training) :   0%|          | 0/1000 [00:00<?, ?it/s]"
      ]
     },
     "metadata": {},
     "output_type": "display_data"
    },
    {
     "name": "stdout",
     "output_type": "stream",
     "text": [
      "- (Train)   bce:  0.4520, mse:  0.0000,  acc: 84.364 %, pearson: 0.541, spearman: 0.466, elapse: 38.685 s\n"
     ]
    },
    {
     "data": {
      "application/vnd.jupyter.widget-view+json": {
       "model_id": "dc78450dabe74a5f996e6f2c182e0516",
       "version_major": 2,
       "version_minor": 0
      },
      "text/plain": [
       "  - (Validation)   :   0%|          | 0/10 [00:00<?, ?it/s]"
      ]
     },
     "metadata": {},
     "output_type": "display_data"
    },
    {
     "name": "stdout",
     "output_type": "stream",
     "text": [
      "- (Valid) bce:  0.4230,  acc: 85.944 %,pearson: 0.598, spearman: 0.524,elapse: 0.071 s\n",
      "\n",
      "[ Epoch 31 of 45 ]\n"
     ]
    },
    {
     "data": {
      "application/vnd.jupyter.widget-view+json": {
       "model_id": "d5dbdb7a88034156a2b51dd6768c22ed",
       "version_major": 2,
       "version_minor": 0
      },
      "text/plain": [
       " - (Training) :   0%|          | 0/1000 [00:00<?, ?it/s]"
      ]
     },
     "metadata": {},
     "output_type": "display_data"
    },
    {
     "name": "stdout",
     "output_type": "stream",
     "text": [
      "- (Train)   bce:  0.4511, mse:  0.0000,  acc: 84.391 %, pearson: 0.543, spearman: 0.468, elapse: 41.087 s\n"
     ]
    },
    {
     "data": {
      "application/vnd.jupyter.widget-view+json": {
       "model_id": "f2ea94a6f2034e0aab0036b1d74e8022",
       "version_major": 2,
       "version_minor": 0
      },
      "text/plain": [
       "  - (Validation)   :   0%|          | 0/10 [00:00<?, ?it/s]"
      ]
     },
     "metadata": {},
     "output_type": "display_data"
    },
    {
     "name": "stdout",
     "output_type": "stream",
     "text": [
      "- (Valid) bce:  0.4151,  acc: 86.312 %,pearson: 0.616, spearman: 0.539,elapse: 0.068 s\n",
      "no improve: 1\t\n",
      "[ Epoch 32 of 45 ]\n"
     ]
    },
    {
     "data": {
      "application/vnd.jupyter.widget-view+json": {
       "model_id": "",
       "version_major": 2,
       "version_minor": 0
      },
      "text/plain": [
       " - (Training) :   0%|          | 0/1000 [00:00<?, ?it/s]"
      ]
     },
     "metadata": {},
     "output_type": "display_data"
    },
    {
     "name": "stdout",
     "output_type": "stream",
     "text": [
      "- (Train)   bce:  0.4508, mse:  0.0000,  acc: 84.447 %, pearson: 0.544, spearman: 0.469, elapse: 39.391 s\n"
     ]
    },
    {
     "data": {
      "application/vnd.jupyter.widget-view+json": {
       "model_id": "",
       "version_major": 2,
       "version_minor": 0
      },
      "text/plain": [
       "  - (Validation)   :   0%|          | 0/10 [00:00<?, ?it/s]"
      ]
     },
     "metadata": {},
     "output_type": "display_data"
    },
    {
     "name": "stdout",
     "output_type": "stream",
     "text": [
      "- (Valid) bce:  0.4128,  acc: 86.305 %,pearson: 0.630, spearman: 0.544,elapse: 0.075 s\n",
      "\n",
      "[ Epoch 33 of 45 ]\n"
     ]
    },
    {
     "data": {
      "application/vnd.jupyter.widget-view+json": {
       "model_id": "",
       "version_major": 2,
       "version_minor": 0
      },
      "text/plain": [
       " - (Training) :   0%|          | 0/1000 [00:00<?, ?it/s]"
      ]
     },
     "metadata": {},
     "output_type": "display_data"
    },
    {
     "name": "stdout",
     "output_type": "stream",
     "text": [
      "- (Train)   bce:  0.4498, mse:  0.0000,  acc: 84.549 %, pearson: 0.547, spearman: 0.470, elapse: 36.650 s\n"
     ]
    },
    {
     "data": {
      "application/vnd.jupyter.widget-view+json": {
       "model_id": "",
       "version_major": 2,
       "version_minor": 0
      },
      "text/plain": [
       "  - (Validation)   :   0%|          | 0/10 [00:00<?, ?it/s]"
      ]
     },
     "metadata": {},
     "output_type": "display_data"
    },
    {
     "name": "stdout",
     "output_type": "stream",
     "text": [
      "- (Valid) bce:  0.4181,  acc: 86.398 %,pearson: 0.621, spearman: 0.540,elapse: 0.073 s\n",
      "no improve: 1\t\n",
      "[ Epoch 34 of 45 ]\n"
     ]
    },
    {
     "data": {
      "application/vnd.jupyter.widget-view+json": {
       "model_id": "",
       "version_major": 2,
       "version_minor": 0
      },
      "text/plain": [
       " - (Training) :   0%|          | 0/1000 [00:00<?, ?it/s]"
      ]
     },
     "metadata": {},
     "output_type": "display_data"
    },
    {
     "name": "stdout",
     "output_type": "stream",
     "text": [
      "- (Train)   bce:  0.4485, mse:  0.0000,  acc: 84.564 %, pearson: 0.549, spearman: 0.473, elapse: 35.928 s\n"
     ]
    },
    {
     "data": {
      "application/vnd.jupyter.widget-view+json": {
       "model_id": "",
       "version_major": 2,
       "version_minor": 0
      },
      "text/plain": [
       "  - (Validation)   :   0%|          | 0/10 [00:00<?, ?it/s]"
      ]
     },
     "metadata": {},
     "output_type": "display_data"
    },
    {
     "name": "stdout",
     "output_type": "stream",
     "text": [
      "- (Valid) bce:  0.4053,  acc: 86.766 %,pearson: 0.650, spearman: 0.553,elapse: 0.067 s\n",
      "\n",
      "[ Epoch 35 of 45 ]\n"
     ]
    },
    {
     "data": {
      "application/vnd.jupyter.widget-view+json": {
       "model_id": "",
       "version_major": 2,
       "version_minor": 0
      },
      "text/plain": [
       " - (Training) :   0%|          | 0/1000 [00:00<?, ?it/s]"
      ]
     },
     "metadata": {},
     "output_type": "display_data"
    },
    {
     "name": "stdout",
     "output_type": "stream",
     "text": [
      "- (Train)   bce:  0.4486, mse:  0.0000,  acc: 84.599 %, pearson: 0.550, spearman: 0.473, elapse: 37.647 s\n"
     ]
    },
    {
     "data": {
      "application/vnd.jupyter.widget-view+json": {
       "model_id": "",
       "version_major": 2,
       "version_minor": 0
      },
      "text/plain": [
       "  - (Validation)   :   0%|          | 0/10 [00:00<?, ?it/s]"
      ]
     },
     "metadata": {},
     "output_type": "display_data"
    },
    {
     "name": "stdout",
     "output_type": "stream",
     "text": [
      "- (Valid) bce:  0.4088,  acc: 86.984 %,pearson: 0.642, spearman: 0.551,elapse: 0.070 s\n",
      "no improve: 1\t\n",
      "[ Epoch 36 of 45 ]\n"
     ]
    },
    {
     "data": {
      "application/vnd.jupyter.widget-view+json": {
       "model_id": "",
       "version_major": 2,
       "version_minor": 0
      },
      "text/plain": [
       " - (Training) :   0%|          | 0/1000 [00:00<?, ?it/s]"
      ]
     },
     "metadata": {},
     "output_type": "display_data"
    },
    {
     "name": "stdout",
     "output_type": "stream",
     "text": [
      "- (Train)   bce:  0.4480, mse:  0.0000,  acc: 84.633 %, pearson: 0.551, spearman: 0.474, elapse: 37.956 s\n"
     ]
    },
    {
     "data": {
      "application/vnd.jupyter.widget-view+json": {
       "model_id": "",
       "version_major": 2,
       "version_minor": 0
      },
      "text/plain": [
       "  - (Validation)   :   0%|          | 0/10 [00:00<?, ?it/s]"
      ]
     },
     "metadata": {},
     "output_type": "display_data"
    },
    {
     "name": "stdout",
     "output_type": "stream",
     "text": [
      "- (Valid) bce:  0.4129,  acc: 86.242 %,pearson: 0.627, spearman: 0.543,elapse: 0.071 s\n",
      "no improve: 2\t\n",
      "[ Epoch 37 of 45 ]\n"
     ]
    },
    {
     "data": {
      "application/vnd.jupyter.widget-view+json": {
       "model_id": "",
       "version_major": 2,
       "version_minor": 0
      },
      "text/plain": [
       " - (Training) :   0%|          | 0/1000 [00:00<?, ?it/s]"
      ]
     },
     "metadata": {},
     "output_type": "display_data"
    },
    {
     "name": "stdout",
     "output_type": "stream",
     "text": [
      "- (Train)   bce:  0.4473, mse:  0.0000,  acc: 84.711 %, pearson: 0.553, spearman: 0.476, elapse: 38.488 s\n"
     ]
    },
    {
     "data": {
      "application/vnd.jupyter.widget-view+json": {
       "model_id": "",
       "version_major": 2,
       "version_minor": 0
      },
      "text/plain": [
       "  - (Validation)   :   0%|          | 0/10 [00:00<?, ?it/s]"
      ]
     },
     "metadata": {},
     "output_type": "display_data"
    },
    {
     "name": "stdout",
     "output_type": "stream",
     "text": [
      "- (Valid) bce:  0.4065,  acc: 86.914 %,pearson: 0.641, spearman: 0.552,elapse: 0.067 s\n",
      "\n",
      "[ Epoch 38 of 45 ]\n"
     ]
    },
    {
     "data": {
      "application/vnd.jupyter.widget-view+json": {
       "model_id": "",
       "version_major": 2,
       "version_minor": 0
      },
      "text/plain": [
       " - (Training) :   0%|          | 0/1000 [00:00<?, ?it/s]"
      ]
     },
     "metadata": {},
     "output_type": "display_data"
    },
    {
     "name": "stdout",
     "output_type": "stream",
     "text": [
      "- (Train)   bce:  0.4461, mse:  0.0000,  acc: 84.738 %, pearson: 0.555, spearman: 0.478, elapse: 35.573 s\n"
     ]
    },
    {
     "data": {
      "application/vnd.jupyter.widget-view+json": {
       "model_id": "",
       "version_major": 2,
       "version_minor": 0
      },
      "text/plain": [
       "  - (Validation)   :   0%|          | 0/10 [00:00<?, ?it/s]"
      ]
     },
     "metadata": {},
     "output_type": "display_data"
    },
    {
     "name": "stdout",
     "output_type": "stream",
     "text": [
      "- (Valid) bce:  0.4065,  acc: 87.242 %,pearson: 0.637, spearman: 0.555,elapse: 0.067 s\n",
      "\n",
      "[ Epoch 39 of 45 ]\n"
     ]
    },
    {
     "data": {
      "application/vnd.jupyter.widget-view+json": {
       "model_id": "",
       "version_major": 2,
       "version_minor": 0
      },
      "text/plain": [
       " - (Training) :   0%|          | 0/1000 [00:00<?, ?it/s]"
      ]
     },
     "metadata": {},
     "output_type": "display_data"
    },
    {
     "name": "stdout",
     "output_type": "stream",
     "text": [
      "- (Train)   bce:  0.4457, mse:  0.0000,  acc: 84.788 %, pearson: 0.557, spearman: 0.479, elapse: 34.664 s\n"
     ]
    },
    {
     "data": {
      "application/vnd.jupyter.widget-view+json": {
       "model_id": "",
       "version_major": 2,
       "version_minor": 0
      },
      "text/plain": [
       "  - (Validation)   :   0%|          | 0/10 [00:00<?, ?it/s]"
      ]
     },
     "metadata": {},
     "output_type": "display_data"
    },
    {
     "name": "stdout",
     "output_type": "stream",
     "text": [
      "- (Valid) bce:  0.4051,  acc: 87.102 %,pearson: 0.647, spearman: 0.552,elapse: 0.069 s\n",
      "no improve: 1\t\n",
      "[ Epoch 40 of 45 ]\n"
     ]
    },
    {
     "data": {
      "application/vnd.jupyter.widget-view+json": {
       "model_id": "",
       "version_major": 2,
       "version_minor": 0
      },
      "text/plain": [
       " - (Training) :   0%|          | 0/1000 [00:00<?, ?it/s]"
      ]
     },
     "metadata": {},
     "output_type": "display_data"
    },
    {
     "name": "stdout",
     "output_type": "stream",
     "text": [
      "- (Train)   bce:  0.4453, mse:  0.0000,  acc: 84.811 %, pearson: 0.557, spearman: 0.480, elapse: 37.839 s\n"
     ]
    },
    {
     "data": {
      "application/vnd.jupyter.widget-view+json": {
       "model_id": "",
       "version_major": 2,
       "version_minor": 0
      },
      "text/plain": [
       "  - (Validation)   :   0%|          | 0/10 [00:00<?, ?it/s]"
      ]
     },
     "metadata": {},
     "output_type": "display_data"
    },
    {
     "name": "stdout",
     "output_type": "stream",
     "text": [
      "- (Valid) bce:  0.4039,  acc: 87.352 %,pearson: 0.641, spearman: 0.556,elapse: 0.069 s\n",
      "no improve: 2\t\n",
      "[ Epoch 41 of 45 ]\n"
     ]
    },
    {
     "data": {
      "application/vnd.jupyter.widget-view+json": {
       "model_id": "",
       "version_major": 2,
       "version_minor": 0
      },
      "text/plain": [
       " - (Training) :   0%|          | 0/1000 [00:00<?, ?it/s]"
      ]
     },
     "metadata": {},
     "output_type": "display_data"
    },
    {
     "name": "stdout",
     "output_type": "stream",
     "text": [
      "- (Train)   bce:  0.4444, mse:  0.0000,  acc: 84.905 %, pearson: 0.560, spearman: 0.481, elapse: 35.575 s\n"
     ]
    },
    {
     "data": {
      "application/vnd.jupyter.widget-view+json": {
       "model_id": "",
       "version_major": 2,
       "version_minor": 0
      },
      "text/plain": [
       "  - (Validation)   :   0%|          | 0/10 [00:00<?, ?it/s]"
      ]
     },
     "metadata": {},
     "output_type": "display_data"
    },
    {
     "name": "stdout",
     "output_type": "stream",
     "text": [
      "- (Valid) bce:  0.4090,  acc: 86.812 %,pearson: 0.634, spearman: 0.549,elapse: 0.135 s\n",
      "\n",
      "[ Epoch 42 of 45 ]\n"
     ]
    },
    {
     "data": {
      "application/vnd.jupyter.widget-view+json": {
       "model_id": "",
       "version_major": 2,
       "version_minor": 0
      },
      "text/plain": [
       " - (Training) :   0%|          | 0/1000 [00:00<?, ?it/s]"
      ]
     },
     "metadata": {},
     "output_type": "display_data"
    },
    {
     "name": "stdout",
     "output_type": "stream",
     "text": [
      "- (Train)   bce:  0.4447, mse:  0.0000,  acc: 84.857 %, pearson: 0.559, spearman: 0.481, elapse: 37.549 s\n"
     ]
    },
    {
     "data": {
      "application/vnd.jupyter.widget-view+json": {
       "model_id": "",
       "version_major": 2,
       "version_minor": 0
      },
      "text/plain": [
       "  - (Validation)   :   0%|          | 0/10 [00:00<?, ?it/s]"
      ]
     },
     "metadata": {},
     "output_type": "display_data"
    },
    {
     "name": "stdout",
     "output_type": "stream",
     "text": [
      "- (Valid) bce:  0.4032,  acc: 87.055 %,pearson: 0.645, spearman: 0.558,elapse: 0.071 s\n",
      "no improve: 1\t\n",
      "[ Epoch 43 of 45 ]\n"
     ]
    },
    {
     "data": {
      "application/vnd.jupyter.widget-view+json": {
       "model_id": "",
       "version_major": 2,
       "version_minor": 0
      },
      "text/plain": [
       " - (Training) :   0%|          | 0/1000 [00:00<?, ?it/s]"
      ]
     },
     "metadata": {},
     "output_type": "display_data"
    },
    {
     "name": "stdout",
     "output_type": "stream",
     "text": [
      "- (Train)   bce:  0.4443, mse:  0.0000,  acc: 84.892 %, pearson: 0.560, spearman: 0.481, elapse: 40.441 s\n"
     ]
    },
    {
     "data": {
      "application/vnd.jupyter.widget-view+json": {
       "model_id": "",
       "version_major": 2,
       "version_minor": 0
      },
      "text/plain": [
       "  - (Validation)   :   0%|          | 0/10 [00:00<?, ?it/s]"
      ]
     },
     "metadata": {},
     "output_type": "display_data"
    },
    {
     "name": "stdout",
     "output_type": "stream",
     "text": [
      "- (Valid) bce:  0.4030,  acc: 87.180 %,pearson: 0.651, spearman: 0.560,elapse: 0.068 s\n",
      "no improve: 2\t\n",
      "[ Epoch 44 of 45 ]\n"
     ]
    },
    {
     "data": {
      "application/vnd.jupyter.widget-view+json": {
       "model_id": "",
       "version_major": 2,
       "version_minor": 0
      },
      "text/plain": [
       " - (Training) :   0%|          | 0/1000 [00:00<?, ?it/s]"
      ]
     },
     "metadata": {},
     "output_type": "display_data"
    },
    {
     "name": "stdout",
     "output_type": "stream",
     "text": [
      "- (Train)   bce:  0.4438, mse:  0.0000,  acc: 84.922 %, pearson: 0.561, spearman: 0.482, elapse: 39.136 s\n"
     ]
    },
    {
     "data": {
      "application/vnd.jupyter.widget-view+json": {
       "model_id": "",
       "version_major": 2,
       "version_minor": 0
      },
      "text/plain": [
       "  - (Validation)   :   0%|          | 0/10 [00:00<?, ?it/s]"
      ]
     },
     "metadata": {},
     "output_type": "display_data"
    },
    {
     "name": "stdout",
     "output_type": "stream",
     "text": [
      "- (Valid) bce:  0.4030,  acc: 87.038 %,pearson: 0.653, spearman: 0.556,elapse: 0.068 s\n",
      "no improve: 3\t\n"
     ]
    },
    {
     "data": {
      "application/vnd.jupyter.widget-view+json": {
       "model_id": "",
       "version_major": 2,
       "version_minor": 0
      },
      "text/plain": [
       "  - (Validation)   :   0%|          | 0/10 [00:00<?, ?it/s]"
      ]
     },
     "metadata": {},
     "output_type": "display_data"
    },
    {
     "name": "stdout",
     "output_type": "stream",
     "text": [
      "  - (Validation-hyper) bce:  0.4027,  acc: 87.070 %, auc: 0.652, aupr: 0.565,elapse: 3.655 s\n"
     ]
    }
   ],
   "source": [
    "higashi_model.train_for_imputation_nbr_0()"
   ]
  },
  {
   "cell_type": "code",
   "execution_count": 69,
   "metadata": {},
   "outputs": [
    {
     "name": "stdout",
     "output_type": "stream",
     "text": [
      "total number of triplets to predict: (28203, 3)\n",
      "Imputing exp_zinb3_nbr_0_impute: 1 of 100, takes 0.03 s estimate 2.56 s to finish\n",
      "Imputing exp_zinb3_nbr_0_impute: 11 of 100, takes 0.25 s estimate 2.03 s to finish\n",
      "Imputing exp_zinb3_nbr_0_impute: 21 of 100, takes 0.47 s estimate 1.78 s to finish\n",
      "Imputing exp_zinb3_nbr_0_impute: 31 of 100, takes 0.69 s estimate 1.54 s to finish\n",
      "Imputing exp_zinb3_nbr_0_impute: 41 of 100, takes 0.91 s estimate 1.30 s to finish\n",
      "Imputing exp_zinb3_nbr_0_impute: 51 of 100, takes 1.12 s estimate 1.07 s to finish\n",
      "Imputing exp_zinb3_nbr_0_impute: 61 of 100, takes 1.33 s estimate 0.85 s to finish\n",
      "Imputing exp_zinb3_nbr_0_impute: 71 of 100, takes 1.55 s estimate 0.63 s to finish\n",
      "Imputing exp_zinb3_nbr_0_impute: 81 of 100, takes 1.77 s estimate 0.41 s to finish\n",
      "Imputing exp_zinb3_nbr_0_impute: 91 of 100, takes 1.98 s estimate 0.20 s to finish\n",
      "finish imputing, used 2.18 s\n"
     ]
    }
   ],
   "source": [
    "higashi_model.impute_no_nbr()"
   ]
  },
  {
   "cell_type": "markdown",
   "metadata": {},
   "source": [
    "## 可视化"
   ]
  },
  {
   "cell_type": "code",
   "execution_count": 70,
   "metadata": {},
   "outputs": [],
   "source": [
    "import seaborn as sns\n",
    "import matplotlib.pyplot as plt\n",
    "def plot_matrix(mat,title,cmap,vmin,vmax,show):\n",
    "    plt.figure(figsize=(4,4))\n",
    "    plt.imshow(mat,interpolation='nearest',cmap=cmap,vmin=vmin,vmax=vmax)\n",
    "    if show:\n",
    "        plt.colorbar()\n",
    "    plt.title(title)\n",
    "    #不显示刻度\n",
    "    plt.xticks([])\n",
    "    plt.yticks([])\n",
    "    plt.show()"
   ]
  },
  {
   "cell_type": "code",
   "execution_count": 73,
   "metadata": {},
   "outputs": [],
   "source": [
    "downsample_matrix_dir  = f\"/shareb/mliu/evaluate_impute/data/simulation_hic/Cell2020/hic/matrix\"\n",
    "sample_path = f\"{downsample_matrix_dir}/Cell2020_sample_matrix4.npy\" #这么慢\n",
    "sample_matrix = np.load(sample_path)\n"
   ]
  },
  {
   "cell_type": "code",
   "execution_count": 74,
   "metadata": {},
   "outputs": [
    {
     "name": "stdout",
     "output_type": "stream",
     "text": [
      "(243, 243)\n"
     ]
    },
    {
     "data": {
      "image/png": "[encoded data removed]",
      "text/plain": [
       "<Figure size 400x400 with 1 Axes>"
      ]
     },
     "metadata": {},
     "output_type": "display_data"
    }
   ],
   "source": [
    "copy=0\n",
    "print(sample_matrix[copy].shape)\n",
    "plot_matrix(sample_matrix[copy],\"Raw\",\"Reds\",0,1,False)"
   ]
  },
  {
   "cell_type": "code",
   "execution_count": 79,
   "metadata": {},
   "outputs": [
    {
     "data": {
      "text/plain": [
       "(243, 243)"
      ]
     },
     "execution_count": 79,
     "metadata": {},
     "output_type": "execute_result"
    }
   ],
   "source": [
    "ori.toarray()[0:243,0:243].shape"
   ]
  },
  {
   "cell_type": "code",
   "execution_count": 78,
   "metadata": {},
   "outputs": [
    {
     "name": "stdout",
     "output_type": "stream",
     "text": [
      "No 6 nbr imputation for chr2 0\n"
     ]
    },
    {
     "data": {
      "image/png": "[encoded data removed]",
      "text/plain": [
       "<Figure size 400x400 with 1 Axes>"
      ]
     },
     "metadata": {},
     "output_type": "display_data"
    },
    {
     "data": {
      "image/png": "[encoded data removed]",
      "text/plain": [
       "<Figure size 400x400 with 1 Axes>"
      ]
     },
     "metadata": {},
     "output_type": "display_data"
    }
   ],
   "source": [
    "id_ = 0\n",
    "ori, nbr0, nbr5 = higashi_model.fetch_map(\"chr2\", id_)\n",
    "\n",
    "plot_matrix(ori.toarray()[0:243,0:243],\"Raw\",\"Reds\",0,1,False)\n",
    "plot_matrix(nbr0.toarray(),\"impute\",\"Reds\",0,np.quantile(nbr0.data, 0.9995),False)"
   ]
  },
  {
   "cell_type": "code",
   "execution_count": 76,
   "metadata": {},
   "outputs": [
    {
     "name": "stdout",
     "output_type": "stream",
     "text": [
      "No 6 nbr imputation for chr2 0\n",
      "No 6 nbr imputation for chr2 1\n",
      "No 6 nbr imputation for chr2 2\n",
      "No 6 nbr imputation for chr2 3\n",
      "No 6 nbr imputation for chr2 4\n",
      "No 6 nbr imputation for chr2 5\n",
      "No 6 nbr imputation for chr2 6\n",
      "No 6 nbr imputation for chr2 7\n",
      "No 6 nbr imputation for chr2 8\n",
      "No 6 nbr imputation for chr2 9\n",
      "No 6 nbr imputation for chr2 10\n",
      "No 6 nbr imputation for chr2 11\n",
      "No 6 nbr imputation for chr2 12\n",
      "No 6 nbr imputation for chr2 13\n",
      "No 6 nbr imputation for chr2 14\n",
      "No 6 nbr imputation for chr2 15\n",
      "No 6 nbr imputation for chr2 16\n",
      "No 6 nbr imputation for chr2 17\n",
      "No 6 nbr imputation for chr2 18\n",
      "No 6 nbr imputation for chr2 19\n",
      "No 6 nbr imputation for chr2 20\n",
      "No 6 nbr imputation for chr2 21\n",
      "No 6 nbr imputation for chr2 22\n",
      "No 6 nbr imputation for chr2 23\n",
      "No 6 nbr imputation for chr2 24\n",
      "No 6 nbr imputation for chr2 25\n",
      "No 6 nbr imputation for chr2 26\n",
      "No 6 nbr imputation for chr2 27\n",
      "No 6 nbr imputation for chr2 28\n",
      "No 6 nbr imputation for chr2 29\n",
      "No 6 nbr imputation for chr2 30\n",
      "No 6 nbr imputation for chr2 31\n",
      "No 6 nbr imputation for chr2 32\n",
      "No 6 nbr imputation for chr2 33\n",
      "No 6 nbr imputation for chr2 34\n",
      "No 6 nbr imputation for chr2 35\n",
      "No 6 nbr imputation for chr2 36\n",
      "No 6 nbr imputation for chr2 37\n",
      "No 6 nbr imputation for chr2 38\n",
      "No 6 nbr imputation for chr2 39\n",
      "No 6 nbr imputation for chr2 40\n",
      "No 6 nbr imputation for chr2 41\n",
      "No 6 nbr imputation for chr2 42\n",
      "No 6 nbr imputation for chr2 43\n",
      "No 6 nbr imputation for chr2 44\n",
      "No 6 nbr imputation for chr2 45\n",
      "No 6 nbr imputation for chr2 46\n",
      "No 6 nbr imputation for chr2 47\n",
      "No 6 nbr imputation for chr2 48\n",
      "No 6 nbr imputation for chr2 49\n",
      "No 6 nbr imputation for chr2 50\n",
      "No 6 nbr imputation for chr2 51\n",
      "No 6 nbr imputation for chr2 52\n",
      "No 6 nbr imputation for chr2 53\n",
      "No 6 nbr imputation for chr2 54\n",
      "No 6 nbr imputation for chr2 55\n",
      "No 6 nbr imputation for chr2 56\n",
      "No 6 nbr imputation for chr2 57\n",
      "No 6 nbr imputation for chr2 58\n",
      "No 6 nbr imputation for chr2 59\n",
      "No 6 nbr imputation for chr2 60\n",
      "No 6 nbr imputation for chr2 61\n",
      "No 6 nbr imputation for chr2 62\n",
      "No 6 nbr imputation for chr2 63\n",
      "No 6 nbr imputation for chr2 64\n",
      "No 6 nbr imputation for chr2 65\n",
      "No 6 nbr imputation for chr2 66\n",
      "No 6 nbr imputation for chr2 67\n",
      "No 6 nbr imputation for chr2 68\n",
      "No 6 nbr imputation for chr2 69\n",
      "No 6 nbr imputation for chr2 70\n",
      "No 6 nbr imputation for chr2 71\n",
      "No 6 nbr imputation for chr2 72\n",
      "No 6 nbr imputation for chr2 73\n",
      "No 6 nbr imputation for chr2 74\n",
      "No 6 nbr imputation for chr2 75\n",
      "No 6 nbr imputation for chr2 76\n",
      "No 6 nbr imputation for chr2 77\n",
      "No 6 nbr imputation for chr2 78\n",
      "No 6 nbr imputation for chr2 79\n",
      "No 6 nbr imputation for chr2 80\n",
      "No 6 nbr imputation for chr2 81\n",
      "No 6 nbr imputation for chr2 82\n",
      "No 6 nbr imputation for chr2 83\n",
      "No 6 nbr imputation for chr2 84\n",
      "No 6 nbr imputation for chr2 85\n",
      "No 6 nbr imputation for chr2 86\n",
      "No 6 nbr imputation for chr2 87\n",
      "No 6 nbr imputation for chr2 88\n",
      "No 6 nbr imputation for chr2 89\n",
      "No 6 nbr imputation for chr2 90\n",
      "No 6 nbr imputation for chr2 91\n",
      "No 6 nbr imputation for chr2 92\n",
      "No 6 nbr imputation for chr2 93\n",
      "No 6 nbr imputation for chr2 94\n",
      "No 6 nbr imputation for chr2 95\n",
      "No 6 nbr imputation for chr2 96\n",
      "No 6 nbr imputation for chr2 97\n",
      "No 6 nbr imputation for chr2 98\n",
      "No 6 nbr imputation for chr2 99\n",
      "(100, 244, 244)\n"
     ]
    }
   ],
   "source": [
    "imputed_matrix_dir = f\"/shareb/mliu/evaluate_impute/data/imputed_data/Higashi\"\n",
    "group = 4\n",
    "npy_list = []\n",
    "for id_ in range(0,100):\n",
    "    ori, nbr0, nbr5 = higashi_model.fetch_map(\"chr2\", id_)\n",
    "    npy_list.append(nbr0.toarray())\n",
    "save_path = f\"{imputed_matrix_dir}/higashi_imputed_Cell2020_group{group}.npy\"\n",
    "npy_array = np.array(npy_list)\n",
    "print(npy_array.shape)\n",
    "np.save(save_path, npy_array)\n",
    "    "
   ]
  },
  {
   "cell_type": "code",
   "execution_count": 27,
   "metadata": {},
   "outputs": [
    {
     "name": "stdout",
     "output_type": "stream",
     "text": [
      "35\n",
      "No 6 nbr imputation for chr21 35\n",
      "1\n",
      "No 6 nbr imputation for chr21 1\n",
      "31\n",
      "No 6 nbr imputation for chr21 31\n",
      "24\n",
      "No 6 nbr imputation for chr21 24\n",
      "29\n",
      "No 6 nbr imputation for chr21 29\n"
     ]
    },
    {
     "data": {
      "image/png": "[encoded data removed]",
      "text/plain": [
       "<Figure size 600x1000 with 10 Axes>"
      ]
     },
     "metadata": {},
     "output_type": "display_data"
    }
   ],
   "source": [
    "count = 0\n",
    "fig = plt.figure(figsize=(6, 2*5))\n",
    "for id_ in np.random.randint(0, 50, 5):\n",
    "    print(id_)\n",
    "    #加载数据\n",
    "    ori, nbr0, nbr5 = higashi_model.fetch_map(\"chr21\", id_)\n",
    "    count += 1\n",
    "    ax = plt.subplot(5, 3, count * 3 - 2)\n",
    "    ax.imshow(ori.toarray(), cmap='Reds', vmin=0.0, vmax=np.quantile(ori.data, 0.6))\n",
    "    ax.set_xticks([], [])\n",
    "    ax.set_yticks([], [])\n",
    "    if count == 1:\n",
    "        ax.set_title(\"raw\")\n",
    "    \n",
    "    ax = plt.subplot(5, 3, count * 3 - 1)\n",
    "    ax.imshow(nbr0.toarray(), cmap='Reds', vmin=0.0, vmax=np.quantile(nbr0.data, 0.95))\n",
    "    ax.set_xticks([], [])\n",
    "    ax.set_yticks([], [])\n",
    "    if count == 1:\n",
    "        ax.set_title(\"higashi, k=0\")\n",
    "    \n",
    "    # ax = plt.subplot(5, 3, count * 3)\n",
    "    # ax.imshow(nbr5.toarray(), cmap='Reds', vmin=0.0, vmax=np.quantile(nbr5.data, 0.95))\n",
    "    # ax.set_xticks([], [])\n",
    "    # ax.set_yticks([], [])\n",
    "    # if count == 1:\n",
    "    #     ax.set_title(\"higashi, k=5\")\n",
    "    \n",
    "plt.tight_layout()"
   ]
  },
  {
   "cell_type": "code",
   "execution_count": 28,
   "metadata": {},
   "outputs": [
    {
     "data": {
      "text/plain": [
       "array([[0., 0., 0., ..., 0., 0., 0.],\n",
       "       [0., 0., 0., ..., 0., 0., 0.],\n",
       "       [0., 0., 0., ..., 0., 0., 0.],\n",
       "       ...,\n",
       "       [0., 0., 0., ..., 0., 0., 0.],\n",
       "       [0., 0., 0., ..., 0., 0., 0.],\n",
       "       [0., 0., 0., ..., 0., 0., 0.]], dtype=float32)"
      ]
     },
     "execution_count": 28,
     "metadata": {},
     "output_type": "execute_result"
    }
   ],
   "source": [
    "ori.toarray()"
   ]
  },
  {
   "cell_type": "code",
   "execution_count": 29,
   "metadata": {},
   "outputs": [],
   "source": [
    "with h5py.File(\"/shareb/mliu/evaluate_impute/tools/Higashi/Higashi/tutorials/dataset/Ramani/node_feats.hdf5\", \"r\") as input_f:\n",
    "    start_end_dict = np.array(input_f['start_end_dict'])"
   ]
  },
  {
   "cell_type": "code",
   "execution_count": 30,
   "metadata": {},
   "outputs": [
    {
     "data": {
      "text/plain": [
       "(3673, 2)"
      ]
     },
     "execution_count": 30,
     "metadata": {},
     "output_type": "execute_result"
    }
   ],
   "source": [
    "start_end_dict.shape"
   ]
  },
  {
   "cell_type": "code",
   "execution_count": 31,
   "metadata": {},
   "outputs": [
    {
     "data": {
      "text/plain": [
       "(1605, 1605)"
      ]
     },
     "execution_count": 31,
     "metadata": {},
     "output_type": "execute_result"
    }
   ],
   "source": [
    "ori.toarray().shape"
   ]
  },
  {
   "cell_type": "code",
   "execution_count": 33,
   "metadata": {},
   "outputs": [
    {
     "data": {
      "text/plain": [
       "1605"
      ]
     },
     "execution_count": 33,
     "metadata": {},
     "output_type": "execute_result"
    }
   ],
   "source": [
    "48129895//30000+1"
   ]
  },
  {
   "cell_type": "code",
   "execution_count": 36,
   "metadata": {},
   "outputs": [
    {
     "data": {
      "text/plain": [
       "711.6304741574858"
      ]
     },
     "execution_count": 36,
     "metadata": {},
     "output_type": "execute_result"
    }
   ],
   "source": [
    "21340000/48129895*1605"
   ]
  },
  {
   "cell_type": "code",
   "execution_count": 68,
   "metadata": {},
   "outputs": [
    {
     "data": {
      "text/plain": [
       "<matplotlib.image.AxesImage at 0x7f093d143040>"
      ]
     },
     "execution_count": 68,
     "metadata": {},
     "output_type": "execute_result"
    },
    {
     "data": {
      "image/png": "[encoded data removed]",
      "text/plain": [
       "<Figure size 640x480 with 1 Axes>"
      ]
     },
     "metadata": {},
     "output_type": "display_data"
    }
   ],
   "source": [
    "start = 1152\n",
    "end = start+83\n",
    "plt.imshow(ori.toarray()[start:end,start:end], cmap='Reds', vmin=0.0, vmax=np.quantile(ori.data, 0.95))\n"
   ]
  },
  {
   "cell_type": "code",
   "execution_count": 69,
   "metadata": {},
   "outputs": [
    {
     "data": {
      "text/plain": [
       "array([[0., 0., 0., ..., 0., 0., 0.],\n",
       "       [0., 0., 1., ..., 0., 0., 0.],\n",
       "       [0., 1., 0., ..., 0., 0., 0.],\n",
       "       ...,\n",
       "       [0., 0., 0., ..., 0., 1., 0.],\n",
       "       [0., 0., 0., ..., 1., 0., 0.],\n",
       "       [0., 0., 0., ..., 0., 0., 0.]], dtype=float32)"
      ]
     },
     "execution_count": 69,
     "metadata": {},
     "output_type": "execute_result"
    }
   ],
   "source": [
    "ori.toarray()[start:end,start:end]"
   ]
  },
  {
   "cell_type": "code",
   "execution_count": 67,
   "metadata": {},
   "outputs": [
    {
     "data": {
      "text/plain": [
       "<matplotlib.image.AxesImage at 0x7f093d1c95b0>"
      ]
     },
     "execution_count": 67,
     "metadata": {},
     "output_type": "execute_result"
    },
    {
     "data": {
      "image/png": "[encoded data removed]",
      "text/plain": [
       "<Figure size 640x480 with 1 Axes>"
      ]
     },
     "metadata": {},
     "output_type": "display_data"
    }
   ],
   "source": [
    "plt.imshow(nbr0.toarray()[start:end,start:end], cmap='Reds', vmin=0.0, vmax=1.5)"
   ]
  },
  {
   "cell_type": "code",
   "execution_count": null,
   "metadata": {},
   "outputs": [],
   "source": []
  }
 ],
 "metadata": {
  "kernelspec": {
   "display_name": "pytorch_gpu",
   "language": "python",
   "name": "pytorch_gpu"
  },
  "language_info": {
   "codemirror_mode": {
    "name": "ipython",
    "version": 3
   },
   "file_extension": ".py",
   "mimetype": "text/x-python",
   "name": "python",
   "nbconvert_exporter": "python",
   "pygments_lexer": "ipython3",
   "version": "3.9.19"
  }
 },
 "nbformat": 4,
 "nbformat_minor": 4
}
